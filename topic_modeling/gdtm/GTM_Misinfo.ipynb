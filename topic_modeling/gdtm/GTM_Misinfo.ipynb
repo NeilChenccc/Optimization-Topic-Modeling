{
 "cells": [
  {
   "cell_type": "code",
   "execution_count": 1,
   "id": "83ba2204-3378-4c4a-8b53-9115a87acb8b",
   "metadata": {},
   "outputs": [],
   "source": [
    "from settings.common import get_pp_pipeline, load_flat_dataset, save_flat_dataset\n",
    "from settings.ngrams import insert_ngrams_flat_from_lists\n",
    "from preprocessing_pipeline.NextGen import NextGen\n",
    "import csv\n",
    "from settings.common import load_flat_dataset\n",
    "from settings.ngrams import insert_ngrams_flat_from_lists\n",
    "import pandas as pd \n",
    "import os \n",
    "import gensim"
   ]
  },
  {
   "cell_type": "code",
   "execution_count": 2,
   "id": "57304a24-fd4a-40a7-815b-c86a968726b0",
   "metadata": {},
   "outputs": [],
   "source": [
    "dataset_name = 'fact_checker_data'\n",
    "seed_topics_file = \"data_gtm/{}_seed_topics.csv\".format(dataset_name)\n",
    "data_path = 'data_gtm/{}.csv'\n",
    "\n",
    "pp = get_pp_pipeline(remove_stopwords=True, stem=False, clean_twitter=False)\n",
    "\n",
    "ds_path = data_path.format(dataset_name+\"_raw\")"
   ]
  },
  {
   "cell_type": "code",
   "execution_count": 3,
   "id": "1798b871-8b40-4d0e-ab66-69739129ecc0",
   "metadata": {},
   "outputs": [],
   "source": [
    "raw_data = pd.DataFrame(pd.read_csv(ds_path).claim)"
   ]
  },
  {
   "cell_type": "code",
   "execution_count": 4,
   "id": "76768602-7b20-4123-b128-cb70b3161e6b",
   "metadata": {},
   "outputs": [],
   "source": [
    "raw_data.to_csv(data_path.format(dataset_name), header=False, index=False)"
   ]
  },
  {
   "cell_type": "code",
   "execution_count": 5,
   "id": "f773e2a9-b428-4833-9817-239979d4298b",
   "metadata": {},
   "outputs": [],
   "source": [
    "ds_path = data_path.format(dataset_name)"
   ]
  },
  {
   "cell_type": "code",
   "execution_count": 6,
   "id": "113ea823-eb1b-42be-b21b-26fb062b2624",
   "metadata": {},
   "outputs": [],
   "source": [
    "dataset = load_flat_dataset(ds_path, delimiter=' ')"
   ]
  },
  {
   "cell_type": "code",
   "execution_count": 7,
   "id": "f939f5ac-b7ff-49a0-9b38-451b7fadb3bc",
   "metadata": {},
   "outputs": [],
   "source": [
    "dataset = []\n",
    "from src.gdtm.helpers.common import load_flat_dataset\n",
    "from src.gdtm.models import GTM, NLDA\n",
    "\n",
    "tnd_path = '../topic-noise-models-source/mallet-tnd/bin/mallet'\n",
    "lda_path = '../topic-noise-models-source/mallet-lda/bin/mallet'\n",
    "gtm_path = '../topic-noise-models-source/mallet-gtm/bin/mallet'\n",
    "dataset = load_flat_dataset(\"data_gtm/{}.csv\".format(dataset_name))"
   ]
  },
  {
   "cell_type": "code",
   "execution_count": 8,
   "id": "2ef69a58-71c5-4ac4-80e2-7758fafbf26a",
   "metadata": {},
   "outputs": [],
   "source": [
    "clean_dataset = []\n",
    "for data in dataset:\n",
    "    tokens = gensim.utils.simple_preprocess(\" \".join(data))\n",
    "    clean_dataset.append(tokens)\n",
    "dataset = clean_dataset"
   ]
  },
  {
   "cell_type": "code",
   "execution_count": 9,
   "id": "7c6615fa-6565-4228-8bd5-61be6223a6bf",
   "metadata": {},
   "outputs": [],
   "source": [
    "# remove all mentions in the data\n",
    "dataset1 = []\n",
    "for d in dataset:\n",
    "    tmp = []\n",
    "    for i in d:\n",
    "        if '@' not in i:\n",
    "            tmp.append(i)\n",
    "    dataset1.append(tmp)\n",
    "dataset = dataset1"
   ]
  },
  {
   "cell_type": "code",
   "execution_count": 10,
   "id": "bff5d0fc-b2d9-4db7-8264-f4574d7e509f",
   "metadata": {},
   "outputs": [],
   "source": [
    "# add bigrams to the dataset\n",
    "ngrams = []\n",
    "with open(\"data_gtm/{}_seed_topics.csv\".format(dataset_name), 'r') as f:\n",
    "    for line in f:\n",
    "        topic = line.strip().split(',')\n",
    "        for w in topic:\n",
    "            if '$' in w:\n",
    "                ngrams.append(w)\n",
    "dataset = insert_ngrams_flat_from_lists(dataset, ngrams, [])\n",
    "all_bigram = []\n",
    "for i in dataset:\n",
    "    tmp = []\n",
    "    for index in range(0,len(i)-1):\n",
    "        tmp.append('$'.join(i[index:index+2]))\n",
    "    all_bigram.append(tmp)\n",
    "dataset.extend(all_bigram)"
   ]
  },
  {
   "cell_type": "code",
   "execution_count": 11,
   "id": "cd8a2c55-ebe6-44af-9dcd-54bd5a569475",
   "metadata": {},
   "outputs": [],
   "source": [
    "model = GTM(dataset=dataset, mallet_tnd_path=tnd_path, mallet_gtm_path=gtm_path, \n",
    "              tnd_k=20, gtm_k=20, tnd_beta1 = 16, over_sampling_factor=100, phi=10,\n",
    "              top_words=20,tnd_iterations=1000, gtm_iterations=1000, seed_topics_file=seed_topics_file)"
   ]
  },
  {
   "cell_type": "code",
   "execution_count": 12,
   "id": "c3ad298c-8d4c-4f56-b411-b2e2cff4a56b",
   "metadata": {},
   "outputs": [
    {
     "name": "stdout",
     "output_type": "stream",
     "text": [
      "Noise: [('president', 161), ('biden', 122), ('election', 103), ('joe', 91), ('joe$biden', 87), ('trump', 78), ('president$joe', 53), ('in$the', 52), ('of$the', 47), ('donald', 45), ('donald$trump', 45), ('ballots', 41), ('vote', 35), ('president$donald', 35), ('presidential', 33), ('former$president', 30), ('people', 26), ('the$election', 24), ('house', 23), ('shows', 23), ('georgia', 22), ('voting', 22), ('the$presidential', 22), ('presidential$election', 22), ('mail', 20), ('white', 20), ('million', 20), ('arizona', 19), ('to$vote', 19), ('state', 18), ('voter', 17), ('ukraine', 17), ('won', 16), ('hunter$biden', 16), ('states', 16), ('to$the', 16), ('on$the', 15), ('jobs', 15), ('covid', 14), ('illegal', 14), ('mail$in', 14), ('left', 13), ('republican', 13), ('year', 13), ('americans', 13), ('voters', 13), ('white$house', 13), ('created', 12), ('video$shows', 12), ('administration', 12), ('to$be', 12), ('show', 12), ('the$president', 12), ('passed', 11), ('from$the', 11), ('federal', 11), ('presidency', 11), ('senate', 11), ('maricopa$county', 11), ('jan', 11), ('vice', 11), ('law', 11), ('wisconsin', 11), ('mike', 10), ('military', 10), ('right$to', 10), ('american', 10), ('elected', 10), ('president$volodymyr', 10), ('and$the', 10), ('in$ballots', 10), ('years', 10), ('march', 10), ('maricopa', 10), ('vice$president', 10), ('was$the', 10), ('for$the', 10), ('voter$id', 9), ('didn', 9), ('trump$was', 9), ('in$maricopa', 9), ('volodymyr', 9), ('pennsylvania', 9), ('united', 9), ('fraud', 9), ('democrat', 9), ('time', 9), ('bill', 9), ('elections', 9), ('drop', 9), ('at$the', 9), ('president$trump', 9), ('office', 8), ('inauguration', 8), ('supreme$court', 8), ('zelenskyy', 8), ('russian', 8), ('ve', 8), ('candidate', 8), ('biden$has', 8), ('more$than', 8), ('national', 8), ('america', 8), ('sen', 8), ('id', 8), ('the$united', 8), ('as$president', 8), ('in$georgia', 8), ('voted$to', 8), ('democrats', 7), ('gas', 7), ('congress', 7), ('absentee', 7), ('in$arizona', 7), ('ukrainian', 7), ('act', 7), ('day', 7), ('democratic', 7), ('results', 7), ('says$joe', 7), ('president$biden', 7), ('that$the', 7), ('the$first', 7), ('announced', 6), ('oil', 6), ('republicans', 6), ('china', 6), ('we$ve', 6), ('on$jan', 6), ('in$march', 6), ('election$results', 6), ('helped', 6), ('impeachment', 6), ('pipeline', 6), ('don', 6), ('tax', 6), ('april', 6), ('lost', 6), ('virginia', 6), ('took$office', 6), ('ukrainian$president', 6), ('biden$is', 6), ('ballots$were', 6), ('going$to', 5), ('of$our', 5), ('the$people', 5), ('won$the', 5), ('back', 5), ('capitol', 5), ('barack', 5), ('word', 5), ('high', 5), ('vaccine', 5), ('afghanistan', 5), ('border', 5), ('working', 5), ('run', 5), ('country', 5), ('kamala', 5), ('record', 5), ('secretary', 5), ('supporters', 5), ('photograph', 5), ('members', 5), ('recall', 5), ('registered', 5), ('machines', 5), ('dead', 5), ('when$he', 5), ('ukraine$president', 5), ('number$of', 5), ('there$were', 5), ('to$show', 5), ('the$state', 5), ('audit$of', 5), ('because$of', 5), ('is$not', 5), ('election$was', 5), ('voted$against', 5), ('rescue', 4), ('signed', 4), ('members$of', 4), ('we$re', 3), ('is$the', 3), ('votes$in', 3), ('ballot', 2), ('ago', 2), ('stolen', 2), ('and$they', 2), ('election$and', 2), ('plan', 1), ('video', 1), ('number', 1), ('november', 1), ('prices', 1), ('voter$fraud', 1), ('cast', 1), ('audit', 1), ('county', 1), ('voted', 1)]\n",
      "\n",
      "Topics: [(4, [('president', 0.5579710144927537), ('jan', 0.07971014492753623), ('vice', 0.07971014492753623), ('mike', 0.057971014492753624), ('of$president', 0.050724637681159424), ('harris', 0.036231884057971016), ('kamala', 0.036231884057971016), ('secretary', 0.036231884057971016), ('russian', 0.021739130434782608), ('federal', 0.014492753623188406), ('is$the', 0.014492753623188406), ('we$re', 0.007246376811594203), ('signed', 0.007246376811594203), ('wisconsin', 0.0), ('cast', 0.0), ('virginia', 0.0), ('audit', 0.0), ('arizona', 0.0), ('voter$fraud', 0.0), ('elections', 0.0)]), (10, [('to$the', 0.11510791366906475), ('on$the', 0.10071942446043165), ('white$house', 0.09352517985611511), ('the$white', 0.07194244604316546), ('was$the', 0.07194244604316546), ('president$volodymyr', 0.06474820143884892), ('democrats', 0.05755395683453238), ('as$president', 0.05755395683453238), ('right$to', 0.05755395683453238), ('volodymyr$zelenskyy', 0.050359712230215826), ('trump$was', 0.050359712230215826), ('absentee', 0.04316546762589928), ('son', 0.03597122302158273), ('office', 0.02877697841726619), ('democratic', 0.02877697841726619), ('vote', 0.02158273381294964), ('impeachment', 0.014388489208633094), ('county', 0.007194244604316547), ('and$they', 0.007194244604316547), ('biden$has', 0.007194244604316547)]), (16, [('in$the', 0.3880597014925373), ('the$election', 0.17164179104477612), ('president$trump', 0.06716417910447761), ('and$the', 0.06716417910447761), ('trump', 0.05970149253731343), ('rolls', 0.03731343283582089), ('ukraine$president', 0.03731343283582089), ('afghanistan', 0.03731343283582089), ('of$state', 0.03731343283582089), ('we$ve', 0.029850746268656716), ('president$biden', 0.029850746268656716), ('at$the', 0.022388059701492536), ('ago', 0.007462686567164179), ('day', 0.007462686567164179), ('stolen', 0.0), ('maricopa', 0.0), ('voter$fraud', 0.0), ('results', 0.0), ('recall', 0.0), ('election', 0.0)]), (13, [('of$the', 0.2550335570469799), ('people', 0.12080536912751678), ('wisconsin', 0.0738255033557047), ('drop', 0.06040268456375839), ('time', 0.06040268456375839), ('president$of', 0.053691275167785234), ('the$united', 0.053691275167785234), ('united$states', 0.053691275167785234), ('day', 0.04697986577181208), ('illegal', 0.04697986577181208), ('tax', 0.040268456375838924), ('election$was', 0.03355704697986577), ('is$not', 0.03355704697986577), ('the$people', 0.026845637583892617), ('that$the', 0.013422818791946308), ('and$they', 0.013422818791946308), ('republican', 0.006711409395973154), ('in$march', 0.006711409395973154), ('elections', 0.0), ('election', 0.0)]), (9, [('million', 0.13793103448275862), ('jobs', 0.10344827586206896), ('year', 0.08275862068965517), ('to$be', 0.07586206896551724), ('voters', 0.06896551724137931), ('created', 0.06896551724137931), ('plan', 0.06896551724137931), ('history', 0.06206896551724138), ('american', 0.06206896551724138), ('national', 0.05517241379310345), ('candidate', 0.04827586206896552), ('illegal', 0.041379310344827586), ('rescue', 0.027586206896551724), ('president$biden', 0.020689655172413793), ('registered', 0.020689655172413793), ('voter$fraud', 0.013793103448275862), ('ukraine', 0.013793103448275862), ('harris', 0.006896551724137931), ('helped', 0.006896551724137931), ('from$the', 0.006896551724137931)]), (5, [('trump', 0.4727272727272727), ('donald', 0.2727272727272727), ('presidency', 0.06060606060606061), ('left', 0.05454545454545454), ('lost', 0.03636363636363636), ('supporters', 0.030303030303030304), ('early', 0.030303030303030304), ('back', 0.024242424242424242), ('united', 0.006060606060606061), ('to$show', 0.006060606060606061), ('ballot', 0.006060606060606061), ('arizona', 0.0), ('recall', 0.0), ('virginia', 0.0), ('audit', 0.0), ('county', 0.0), ('maricopa', 0.0), ('voted', 0.0), ('results', 0.0), ('election', 0.0)]), (8, [('vote', 0.18791946308724833), ('voting', 0.14093959731543623), ('voter', 0.10738255033557047), ('law', 0.0738255033557047), ('republican', 0.06711409395973154), ('march', 0.06711409395973154), ('pennsylvania', 0.06040268456375839), ('passed', 0.06040268456375839), ('federal', 0.053691275167785234), ('people', 0.040268456375838924), ('high', 0.03355704697986577), ('working', 0.03355704697986577), ('recall', 0.03355704697986577), ('oil', 0.020134228187919462), ('voters', 0.013422818791946308), ('the$state', 0.006711409395973154), ('virginia', 0.0), ('audit', 0.0), ('maricopa', 0.0), ('ballot', 0.0)]), (17, [('house', 0.1640625), ('white', 0.1328125), ('states', 0.1171875), ('hunter$biden', 0.109375), ('video$shows', 0.078125), ('united', 0.0625), ('military', 0.0625), ('in$georgia', 0.0625), ('april', 0.046875), ('members', 0.0390625), ('kamala$harris', 0.0390625), ('in$march', 0.03125), ('democratic', 0.0234375), ('back', 0.0078125), ('election$and', 0.0078125), ('election$in', 0.0078125), ('administration', 0.0078125), ('id', 0.0), ('sen', 0.0), ('stolen', 0.0)]), (15, [('shows', 0.1875), ('to$vote', 0.16964285714285715), ('video', 0.15178571428571427), ('ukraine', 0.13392857142857142), ('volodymyr', 0.08035714285714286), ('zelenskyy', 0.0625), ('ukrainian', 0.0625), ('ballot', 0.05357142857142857), ('photograph', 0.044642857142857144), ('russian', 0.026785714285714284), ('more$than', 0.008928571428571428), ('voters', 0.008928571428571428), ('rescue', 0.008928571428571428), ('for$president', 0.0), ('when$he', 0.0), ('cast', 0.0), ('recall', 0.0), ('stolen', 0.0), ('hunter$biden', 0.0), ('voter$fraud', 0.0)]), (19, [('election', 0.5515151515151515), ('presidential', 0.2), ('fraud', 0.05454545454545454), ('america', 0.048484848484848485), ('ve', 0.04242424242424243), ('results', 0.03636363636363636), ('georgia', 0.024242424242424242), ('office', 0.01818181818181818), ('border', 0.012121212121212121), ('run', 0.006060606060606061), ('on$jan', 0.006060606060606061), ('wisconsin', 0.0), ('arizona', 0.0), ('maricopa', 0.0), ('recall', 0.0), ('elections', 0.0), ('virginia', 0.0), ('audit', 0.0), ('cast', 0.0), ('stolen', 0.0)])]\n",
      "\n",
      "UMass Coherence Score: -19.39425675842637\n"
     ]
    }
   ],
   "source": [
    "topics = model.get_topics()\n",
    "noise = model.get_noise_distribution()\n",
    "topic_formula = model.show_topics()\n",
    "coherence = model.get_coherent()\n",
    "print(\"Noise:\",noise)\n",
    "print(\"\\nTopics:\", topic_formula)\n",
    "print(\"\\nUMass Coherence Score:\", coherence)"
   ]
  },
  {
   "cell_type": "code",
   "execution_count": 13,
   "id": "6c3d1c8b-7582-4946-983f-b7733b58ab68",
   "metadata": {},
   "outputs": [],
   "source": [
    "noise_word = [term for term, wt in noise[:50]]\n",
    "noise_wt = [wt for term, wt in noise[:50]]\n",
    "noise_data = pd.DataFrame([noise_word, noise_wt]).T.rename(columns={0:\"Noise_Word\", 1:\"Noise_Weight\"}).sort_values(by=\"Noise_Weight\", ascending=True)"
   ]
  },
  {
   "cell_type": "code",
   "execution_count": 14,
   "id": "79e6d105-8f3c-4fe2-9ddb-de5984d8c7b1",
   "metadata": {},
   "outputs": [],
   "source": [
    "clean_topic = []\n",
    "for topic in topics:\n",
    "    temp=[]\n",
    "    for t in topic:\n",
    "        if t not in noise_word:\n",
    "            temp.append(t)\n",
    "    clean_topic.append(temp)"
   ]
  },
  {
   "cell_type": "code",
   "execution_count": 15,
   "id": "84e382b0-c492-4f32-ac33-a16f51991e6f",
   "metadata": {},
   "outputs": [],
   "source": [
    "with open('data_gtm/'+dataset_name+\"_gtm_topics.csv\", \"w\", newline=\"\") as f:\n",
    "    writer = csv.writer(f)\n",
    "    writer.writerows(clean_topic)"
   ]
  },
  {
   "cell_type": "code",
   "execution_count": null,
   "id": "56c963e8-934f-4b69-891f-c68b21bc0142",
   "metadata": {},
   "outputs": [],
   "source": [
    "cmd = 'rm /tmp/750b80*'\n",
    "os.system(cmd)\n",
    "cmd = 'rm /tmp/f86f5*'\n",
    "os.system(cmd)"
   ]
  }
 ],
 "metadata": {
  "kernelspec": {
   "display_name": "Python 3",
   "language": "python",
   "name": "python3"
  },
  "language_info": {
   "codemirror_mode": {
    "name": "ipython",
    "version": 3
   },
   "file_extension": ".py",
   "mimetype": "text/x-python",
   "name": "python",
   "nbconvert_exporter": "python",
   "pygments_lexer": "ipython3",
   "version": "3.8.2"
  }
 },
 "nbformat": 4,
 "nbformat_minor": 5
}
