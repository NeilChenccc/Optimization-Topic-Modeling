{
 "cells": [
  {
   "cell_type": "code",
   "execution_count": 12,
   "id": "bddbe0e2-ccdd-4fb8-bca0-999105b9775f",
   "metadata": {},
   "outputs": [],
   "source": [
    "path = r'sample*'\n",
    "\n",
    "import glob\n",
    "\n",
    "path_list = glob.glob(path)\n",
    "\n",
    "data = \"\"\n",
    "for path in path_list:\n",
    "    with open(path) as fp:\n",
    "        data += fp.read()\n",
    "        data += \"\\n\"\n",
    "\n",
    "with open(\"combined.csv\", \"w\") as fp:\n",
    "    fp.write(data)"
   ]
  },
  {
   "cell_type": "code",
   "execution_count": null,
   "id": "ef225834-e112-43b2-bfdd-a28fdbdc7dc1",
   "metadata": {},
   "outputs": [],
   "source": []
  }
 ],
 "metadata": {
  "kernelspec": {
   "display_name": "Python 3",
   "language": "python",
   "name": "python3"
  },
  "language_info": {
   "codemirror_mode": {
    "name": "ipython",
    "version": 3
   },
   "file_extension": ".py",
   "mimetype": "text/x-python",
   "name": "python",
   "nbconvert_exporter": "python",
   "pygments_lexer": "ipython3",
   "version": "3.8.2"
  }
 },
 "nbformat": 4,
 "nbformat_minor": 5
}
