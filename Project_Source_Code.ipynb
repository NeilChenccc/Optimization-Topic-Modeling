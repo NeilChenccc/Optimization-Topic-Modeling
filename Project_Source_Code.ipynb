{
 "cells": [
  {
   "cell_type": "markdown",
   "id": "b2bef80e-fca1-4c52-be91-851ef60fe462",
   "metadata": {},
   "source": [
    "## Load data from DBPedia"
   ]
  },
  {
   "cell_type": "code",
   "execution_count": 1,
   "id": "25852d1e-1264-4eca-89a4-8f686ab20f7b",
   "metadata": {},
   "outputs": [],
   "source": [
    "import datasets\n",
    "import pandas as pd\n",
    "from sklearn.model_selection import train_test_split"
   ]
  },
  {
   "cell_type": "code",
   "execution_count": 2,
   "id": "a6e40ee2-ce31-420e-bd08-5faff924fa04",
   "metadata": {},
   "outputs": [],
   "source": [
    "labels = {\n",
    "    0: \"Company\",\n",
    "    1: \"EducationalInstitution\",\n",
    "    2: \"Artist\",\n",
    "    3: \"Athlete\",\n",
    "    4: \"OfficeHolder\",\n",
    "    5: \"MeanOfTransportation\",\n",
    "    6: \"Building\",\n",
    "    7: \"NaturalPlace\",\n",
    "    8: \"Village\",\n",
    "    9: \"Animal\",\n",
    "    10: \"Plant\",\n",
    "    11: \"Album\",\n",
    "    12: \"Film\",\n",
    "    13: \"WrittenWork\"\n",
    "}\n",
    "\n",
    "K = len(labels)"
   ]
  },
  {
   "cell_type": "code",
   "execution_count": 3,
   "id": "c7981355-8777-4f0c-8916-9fef2a279b9b",
   "metadata": {},
   "outputs": [
    {
     "name": "stderr",
     "output_type": "stream",
     "text": [
      "Reusing dataset d_bpedia14 (/Users/chenyongrui/.cache/huggingface/datasets/d_bpedia14/dbpedia_14/2.0.0/7f0577ea0f4397b6b89bfe5c5f2c6b1b420990a1fc5e8538c7ab4ec40e46fa3e)\n"
     ]
    }
   ],
   "source": [
    "df, _= datasets.load_dataset('dbpedia_14', split=['train', 'test'])\n",
    "df: pd.DataFrame = df.to_pandas()\n",
    "df = df[df.label.isin([3,7,9,12])].reset_index(drop=True)\n",
    "data, _ = train_test_split(df, train_size=1000, stratify=df[['label']], random_state=910)"
   ]
  },
  {
   "cell_type": "code",
   "execution_count": 4,
   "id": "dc0294b4-a23f-4d0b-823e-0948166527e8",
   "metadata": {},
   "outputs": [],
   "source": [
    "data.reset_index(drop=True, inplace=True)"
   ]
  },
  {
   "cell_type": "code",
   "execution_count": 5,
   "id": "d498a022-0d3a-4e04-b159-268de9a7f4b6",
   "metadata": {},
   "outputs": [
    {
     "data": {
      "text/html": [
       "<div>\n",
       "<style scoped>\n",
       "    .dataframe tbody tr th:only-of-type {\n",
       "        vertical-align: middle;\n",
       "    }\n",
       "\n",
       "    .dataframe tbody tr th {\n",
       "        vertical-align: top;\n",
       "    }\n",
       "\n",
       "    .dataframe thead th {\n",
       "        text-align: right;\n",
       "    }\n",
       "</style>\n",
       "<table border=\"1\" class=\"dataframe\">\n",
       "  <thead>\n",
       "    <tr style=\"text-align: right;\">\n",
       "      <th></th>\n",
       "      <th>label</th>\n",
       "      <th>title</th>\n",
       "      <th>content</th>\n",
       "    </tr>\n",
       "  </thead>\n",
       "  <tbody>\n",
       "    <tr>\n",
       "      <th>0</th>\n",
       "      <td>7</td>\n",
       "      <td>Mount Xiqiao</td>\n",
       "      <td>Mount Xiqiao is a 40-50 million year old dorm...</td>\n",
       "    </tr>\n",
       "    <tr>\n",
       "      <th>1</th>\n",
       "      <td>9</td>\n",
       "      <td>Precious coral</td>\n",
       "      <td>Precious coral or red coral is the common nam...</td>\n",
       "    </tr>\n",
       "    <tr>\n",
       "      <th>2</th>\n",
       "      <td>3</td>\n",
       "      <td>Abram Elam</td>\n",
       "      <td>Abram Abe Elam (born October 15 1981) is an A...</td>\n",
       "    </tr>\n",
       "    <tr>\n",
       "      <th>3</th>\n",
       "      <td>12</td>\n",
       "      <td>Dreams That Money Can Buy</td>\n",
       "      <td>Dreams That Money Can Buy is a 1947 experimen...</td>\n",
       "    </tr>\n",
       "    <tr>\n",
       "      <th>4</th>\n",
       "      <td>7</td>\n",
       "      <td>Râul Iezerului</td>\n",
       "      <td>The Râul Iezerului is a tributary of the Râul...</td>\n",
       "    </tr>\n",
       "    <tr>\n",
       "      <th>...</th>\n",
       "      <td>...</td>\n",
       "      <td>...</td>\n",
       "      <td>...</td>\n",
       "    </tr>\n",
       "    <tr>\n",
       "      <th>995</th>\n",
       "      <td>7</td>\n",
       "      <td>Bramante (crater)</td>\n",
       "      <td>Bramante is a crater on Mercury. It has a dia...</td>\n",
       "    </tr>\n",
       "    <tr>\n",
       "      <th>996</th>\n",
       "      <td>3</td>\n",
       "      <td>Matthew Wade</td>\n",
       "      <td>Matthew Scott Wade (born 26 December 1987) is...</td>\n",
       "    </tr>\n",
       "    <tr>\n",
       "      <th>997</th>\n",
       "      <td>9</td>\n",
       "      <td>Parnassius delphius</td>\n",
       "      <td>The Banded Apollo Parnassius delphius is a hi...</td>\n",
       "    </tr>\n",
       "    <tr>\n",
       "      <th>998</th>\n",
       "      <td>12</td>\n",
       "      <td>The Players (film)</td>\n",
       "      <td>The Players (French: Les Infidèles) is a 2012...</td>\n",
       "    </tr>\n",
       "    <tr>\n",
       "      <th>999</th>\n",
       "      <td>3</td>\n",
       "      <td>Zsombor Kerekes</td>\n",
       "      <td>Zsombor Kerekes (born 13 September 1973) is a...</td>\n",
       "    </tr>\n",
       "  </tbody>\n",
       "</table>\n",
       "<p>1000 rows × 3 columns</p>\n",
       "</div>"
      ],
      "text/plain": [
       "     label                      title  \\\n",
       "0        7               Mount Xiqiao   \n",
       "1        9             Precious coral   \n",
       "2        3                 Abram Elam   \n",
       "3       12  Dreams That Money Can Buy   \n",
       "4        7             Râul Iezerului   \n",
       "..     ...                        ...   \n",
       "995      7          Bramante (crater)   \n",
       "996      3               Matthew Wade   \n",
       "997      9        Parnassius delphius   \n",
       "998     12         The Players (film)   \n",
       "999      3            Zsombor Kerekes   \n",
       "\n",
       "                                               content  \n",
       "0     Mount Xiqiao is a 40-50 million year old dorm...  \n",
       "1     Precious coral or red coral is the common nam...  \n",
       "2     Abram Abe Elam (born October 15 1981) is an A...  \n",
       "3     Dreams That Money Can Buy is a 1947 experimen...  \n",
       "4     The Râul Iezerului is a tributary of the Râul...  \n",
       "..                                                 ...  \n",
       "995   Bramante is a crater on Mercury. It has a dia...  \n",
       "996   Matthew Scott Wade (born 26 December 1987) is...  \n",
       "997   The Banded Apollo Parnassius delphius is a hi...  \n",
       "998   The Players (French: Les Infidèles) is a 2012...  \n",
       "999   Zsombor Kerekes (born 13 September 1973) is a...  \n",
       "\n",
       "[1000 rows x 3 columns]"
      ]
     },
     "execution_count": 5,
     "metadata": {},
     "output_type": "execute_result"
    }
   ],
   "source": [
    "data"
   ]
  },
  {
   "cell_type": "markdown",
   "id": "38a6301e-a46f-45be-ac9f-f35df5dbddbc",
   "metadata": {},
   "source": [
    "## NLDA model\n",
    "### Data Preparation"
   ]
  },
  {
   "cell_type": "code",
   "execution_count": 6,
   "id": "a36d0593-9673-4b80-8c8e-db810609e017",
   "metadata": {},
   "outputs": [],
   "source": [
    "from settings.common import get_pp_pipeline, load_flat_dataset, save_flat_dataset\n",
    "from settings.ngrams import insert_ngrams_flat_from_lists\n",
    "from preprocessing_pipeline.NextGen import NextGen\n",
    "from settings.common import load_flat_dataset\n",
    "from settings.ngrams import insert_ngrams_flat_from_lists\n",
    "import csv\n",
    "import matplotlib.pyplot as plt"
   ]
  },
  {
   "cell_type": "code",
   "execution_count": 7,
   "id": "081d35a5-e6a7-4957-ae0e-319192262f7b",
   "metadata": {},
   "outputs": [],
   "source": [
    "pp = get_pp_pipeline(remove_stopwords=True, stem=False, clean_twitter=False, lemmatize=True)"
   ]
  },
  {
   "cell_type": "code",
   "execution_count": 8,
   "id": "da37d919-fde1-4499-b579-bc9deb9a7675",
   "metadata": {},
   "outputs": [],
   "source": [
    "raw_data = pd.DataFrame(data.content)"
   ]
  },
  {
   "cell_type": "code",
   "execution_count": 9,
   "id": "aae1e9e4-f073-483c-a310-36f3cf77409d",
   "metadata": {},
   "outputs": [],
   "source": [
    "raw_data.to_csv(\"dbpedia_raw.csv\", header=False, index=False)"
   ]
  },
  {
   "cell_type": "code",
   "execution_count": 10,
   "id": "5041c36c-a26a-4fff-af1f-0daddd0c48a8",
   "metadata": {},
   "outputs": [],
   "source": [
    "dataset = load_flat_dataset(\"dbpedia_raw.csv\", delimiter=' ')"
   ]
  },
  {
   "cell_type": "code",
   "execution_count": 11,
   "id": "b102962f-3892-4642-9a97-0754544e4e0e",
   "metadata": {},
   "outputs": [],
   "source": [
    "ng = NextGen()\n",
    "clean_ds = ng._preprocess_dataset(dataset=dataset, pp=pp)\n",
    "save_flat_dataset(\"dbpedia_clean.csv\", clean_ds, delimiter=' ')"
   ]
  },
  {
   "cell_type": "code",
   "execution_count": 12,
   "id": "e0e666a0-e084-4a55-8129-f77f3fbd540a",
   "metadata": {},
   "outputs": [],
   "source": [
    "dataset = []\n",
    "from src.gdtm.helpers.common import load_flat_dataset\n",
    "from src.gdtm.models import GTM, NLDA\n",
    "\n",
    "tnd_path = 'topic-noise-models-source/mallet-tnd/bin/mallet'\n",
    "lda_path = 'topic-noise-models-source/mallet-lda/bin/mallet'\n",
    "gtm_path = 'topic-noise-models-source/mallet-gtm/bin/mallet'\n",
    "dataset = load_flat_dataset(\"dbpedia_clean.csv\")"
   ]
  },
  {
   "cell_type": "code",
   "execution_count": 13,
   "id": "cef65aa3-4952-4b4c-ad26-979a6e4f6331",
   "metadata": {},
   "outputs": [],
   "source": [
    "all_bigram = []\n",
    "for i in dataset:\n",
    "    tmp = []\n",
    "    for index in range(0,len(i)-1):\n",
    "        tmp.append('$'.join(i[index:index+2]))\n",
    "    all_bigram.append(tmp)\n",
    "dataset.extend(all_bigram)"
   ]
  },
  {
   "cell_type": "code",
   "execution_count": 15,
   "id": "d8880552-9b07-4e05-9e41-6e56e56f595f",
   "metadata": {},
   "outputs": [
    {
     "data": {
      "text/plain": [
       "2000"
      ]
     },
     "execution_count": 15,
     "metadata": {},
     "output_type": "execute_result"
    }
   ],
   "source": [
    "len(dataset)"
   ]
  },
  {
   "cell_type": "markdown",
   "id": "cf440130-3288-4afd-a977-46cb538bfe39",
   "metadata": {},
   "source": [
    "### Find the best k for NLDA model"
   ]
  },
  {
   "cell_type": "code",
   "execution_count": 37,
   "id": "d4b675c4-337e-4562-a4df-3f43d7392ee7",
   "metadata": {},
   "outputs": [],
   "source": [
    "coherence_list = []\n",
    "for n in range(2, 6):\n",
    "    model = NLDA(dataset=dataset, mallet_tnd_path=tnd_path, mallet_lda_path=lda_path, \n",
    "             tnd_k=n, lda_k=n, tnd_beta1 = int(5*n/6), phi=int(n/3), top_words=30)\n",
    "    coherence_list.append(model.get_coherent())"
   ]
  },
  {
   "cell_type": "code",
   "execution_count": 39,
   "id": "82ef2dda-de5f-4ff5-a7ff-a54fe490d2bb",
   "metadata": {},
   "outputs": [
    {
     "data": {
      "image/png": "[encoded data removed]",
      "text/plain": [
       "<Figure size 720x432 with 1 Axes>"
      ]
     },
     "metadata": {
      "needs_background": "light"
     },
     "output_type": "display_data"
    }
   ],
   "source": [
    "plt.figure(figsize=(10,6))\n",
    "plt.plot(range(2, 6),coherence_list)\n",
    "plt.xlabel(\"Number of Topics\", fontsize=15)\n",
    "plt.ylabel(\"UMass Coherence Score\", fontsize=15)\n",
    "plt.xticks(range(2, 6, 1), fontsize=12)\n",
    "plt.yticks(fontsize=12)\n",
    "plt.title(\"UMass Coherence Score for Different k\", fontsize=20)\n",
    "plt.savefig(\"Coherence_Score.png\", dpi=300)"
   ]
  },
  {
   "cell_type": "markdown",
   "id": "652f2e96-4bef-4c62-8e8a-c7675d8f29a0",
   "metadata": {},
   "source": [
    "### Get the NLDA topics and noise"
   ]
  },
  {
   "cell_type": "code",
   "execution_count": 16,
   "id": "3aed348d-d3d9-479b-aede-fee197d9e0b4",
   "metadata": {},
   "outputs": [],
   "source": [
    "model = NLDA(dataset=dataset, mallet_tnd_path=tnd_path, mallet_lda_path=lda_path, \n",
    "             tnd_k=20, lda_k=20, tnd_beta1=15, phi=12, top_words=30)"
   ]
  },
  {
   "cell_type": "code",
   "execution_count": 17,
   "id": "39f4fa6f-08ac-4345-864a-8ee8f950b5ba",
   "metadata": {},
   "outputs": [
    {
     "name": "stdout",
     "output_type": "stream",
     "text": [
      "Noise: [('film', 656), ('river', 287), ('family', 192), ('directed', 178), ('born', 166), ('specie', 152), ('lake', 146), ('found', 115), ('film$directed', 113), ('football', 111), ('mountain', 100), ('american', 98), ('genus', 97), ('league', 94), ('south', 92), ('state', 79), ('moth', 79), ('starring', 76), ('played', 70), ('national', 69), ('play', 60), ('tributary', 59), ('produce', 58), ('sea', 58), ('player', 57), ('footballer', 56), ('north', 55), ('team', 54), ('part', 53), ('release', 52), ('professional', 51), ('county', 51), ('written', 50), ('drama', 48), ('world', 47), ('star', 47), ('high', 46), ('based', 46), ('season', 45), ('located', 44), ('united', 44), ('flow', 43), ('west', 43), ('western', 43), ('family$found', 43), ('romania', 42), ('drama$film', 41), ('international', 40), ('october', 39), ('park', 39), ('snail', 39), ('river$romania', 38), ('comedy', 38), ('year', 38), ('long', 38), ('august', 37), ('playing', 37), ('made', 37), ('italian', 36), ('club', 36), ('river$tributary', 36), ('compete', 35), ('hockey', 35), ('april', 35), ('john', 34), ('range', 34), ('united$state', 34), ('series', 34), ('forest', 34), ('southern', 34), ('australian', 33), ('marine', 33), ('british', 33), ('area', 33), ('city', 33), ('side', 33), ('gastropod', 32), ('medal', 32), ('movie', 32), ('habitat', 32), ('football$league', 32), ('championship', 32), ('major', 31), ('russian', 31), ('baseball', 31), ('tropical', 31), ('time', 31), ('french', 31), ('peak', 30), ('gastropod$mollusk', 30), ('mollusk', 30), ('australia', 30), ('champion', 30), ('small', 29), ('northern', 29), ('olympics', 29), ('feature', 28), ('endemic', 28), ('title', 28), ('central', 28), ('canadian', 28), ('story', 28), ('english', 28), ('subtropical', 28), ('east', 28), ('member', 27), ('include', 27), ('hill', 27), ('mollusk$family', 27), ('subtropical$tropical', 27), ('debut', 27), ('2008', 27), ('december', 26), ('summer', 26), ('comedy$film', 26), ('indian', 26), ('large', 26), ('elevation', 25), ('metre', 25), ('india', 25), ('level', 25), ('valley', 24), ('career', 24), ('late', 24), ('marine$gastropod', 24), ('draft', 24), ('island', 24), ('ice', 24), ('march', 24), ('short', 24), ('germany', 23), ('also$known', 23), ('reservoir', 23), ('life', 23), ('january', 23), ('snail$marine', 22), ('brown', 22), ('japanese', 22), ('town', 22), ('creek', 22), ('1988', 22), ('picture', 21), ('canada', 21), ('film$festival', 21), ('november', 21), ('2012', 21), ('june', 21), ('born$april', 21), ('born$october', 21), ('major$league', 21), ('natural', 21), ('brazil', 20), ('water', 20), ('film$written', 20), ('july', 20), ('length', 20), ('role', 20), ('final', 20), ('football$player', 20), ('road', 20), ('region', 20), ('france', 20), ('event', 20), ('james', 19), ('moist', 19), ('butterfly', 19), ('specie$sea', 19), ('college', 19), ('wingspan', 19), ('documentary', 19), ('crater', 19), ('born$september', 18), ('cup', 18), ('run', 18), ('2005', 18), ('summit', 18), ('black', 18), ('zealand', 18), ('young', 18), ('lead', 18), ('premier', 18), ('1984', 18), ('1990', 18), ('born$may', 18), ('summer$olympics', 18), ('bay', 18), ('1992', 18), ('film$produce', 17), ('1981', 17), ('foot', 17), ('point', 17), ('feed', 17), ('men', 17), ('reach', 17), ('university', 17), ('tropical$moist', 17), ('mile', 17), ('born$january', 17), ('man', 17), ('america', 16)]\n",
      "\n",
      "Topics: [(11, [('film', 0.21258134490238612), ('directed', 0.08351409978308026), ('starring', 0.0824295010845987), ('produce', 0.05856832971800434), ('release', 0.05639913232104121), ('written', 0.05422993492407809), ('star', 0.0509761388286334), ('comedy', 0.039045553145336226), ('movie', 0.03253796095444685), ('role', 0.021691973969631236), ('picture', 0.021691973969631236), ('lead', 0.019522776572668113), ('horror', 0.015184381778741865), ('language', 0.015184381778741865), ('silent', 0.015184381778741865), ('david', 0.010845986984815618), ('version', 0.010845986984815618), ('action', 0.009761388286334056), ('music', 0.009761388286334056), ('actor', 0.009761388286334056), ('production', 0.008676789587852495), ('shot', 0.008676789587852495), ('2014', 0.008676789587852495), ('1938', 0.007592190889370932), ('adventure', 0.007592190889370932), ('dream', 0.007592190889370932), ('crime', 0.007592190889370932), ('bollywood', 0.007592190889370932), ('lost', 0.007592190889370932), ('filmed', 0.007592190889370932)]), (7, [('specie', 0.2054794520547945), ('genus', 0.13287671232876713), ('family', 0.1136986301369863), ('sea', 0.07945205479452055), ('snail', 0.05342465753424658), ('marine', 0.045205479452054796), ('mollusk', 0.0410958904109589), ('gastropod', 0.0410958904109589), ('native', 0.019178082191780823), ('beetle', 0.019178082191780823), ('common', 0.01780821917808219), ('fly', 0.01643835616438356), ('fish', 0.01643835616438356), ('rock', 0.015068493150684932), ('red', 0.015068493150684932), ('subfamily', 0.0136986301369863), ('minute', 0.010958904109589041), ('coral', 0.010958904109589041), ('land', 0.009589041095890411), ('centimetre', 0.009589041095890411), ('type', 0.009589041095890411), ('grow', 0.00821917808219178), ('commonly', 0.00821917808219178), ('shell', 0.00821917808219178), ('spine', 0.00684931506849315), ('similar', 0.00684931506849315), ('occur', 0.00684931506849315), ('fact', 0.00684931506849315), ('recently', 0.00684931506849315), ('terrestrial', 0.00684931506849315)]), (14, [('river$tributary', 0.05405405405405406), ('river$romania', 0.052552552552552555), ('major$league', 0.03153153153153153), ('born$october', 0.03153153153153153), ('born$april', 0.03153153153153153), ('ice$hockey', 0.03153153153153153), ('football$player', 0.03003003003003003), ('born$may', 0.02702702702702703), ('summer$olympics', 0.02702702702702703), ('born$january', 0.025525525525525526), ('league$baseball', 0.024024024024024024), ('born$september', 0.024024024024024024), ('currently$play', 0.02252252252252252), ('born$august', 0.02252252252252252), ('footballer$play', 0.02252252252252252), ('born$february', 0.021021021021021023), ('currently$playing', 0.021021021021021023), ('born$july', 0.021021021021021023), ('player$currently', 0.021021021021021023), ('former$professional', 0.01951951951951952), ('professional$ice', 0.01951951951951952), ('new$york', 0.018018018018018018), ('hockey$league', 0.018018018018018018), ('professional$footballer', 0.018018018018018018), ('born$november', 0.018018018018018018), ('footballer$currently', 0.016516516516516516), ('born$march', 0.016516516516516516), ('professional$baseball', 0.013513513513513514), ('bronze$medal', 0.013513513513513514), ('hockey$player', 0.013513513513513514)]), (9, [('played', 0.05848787446504993), ('made', 0.052781740370898715), ('april', 0.04992867332382311), ('club', 0.04850213980028531), ('australian', 0.0456490727532097), ('australia', 0.042796005706134094), ('international', 0.04136947218259629), ('english', 0.039942938659058486), ('debut', 0.03851640513552068), ('march', 0.034236804564907276), ('february', 0.03281027104136947), ('german', 0.02710413694721826), ('run', 0.024251069900142655), ('george', 0.021398002853067047), ('rugby', 0.019971469329529243), ('wale', 0.018544935805991442), ('considered', 0.018544935805991442), ('1964', 0.018544935805991442), ('cricketer', 0.017118402282453638), ('match', 0.017118402282453638), ('score', 0.015691868758915834), ('1982', 0.015691868758915834), ('union', 0.014265335235378032), ('1947', 0.014265335235378032), ('london', 0.014265335235378032), ('average', 0.012838801711840228), ('1995', 0.012838801711840228), ('firstclass', 0.011412268188302425), ('cricket', 0.011412268188302425), ('queensland', 0.011412268188302425)]), (13, [('united', 0.0669710806697108), ('series', 0.0517503805175038), ('august', 0.0517503805175038), ('city', 0.0502283105022831), ('john', 0.0471841704718417), ('2008', 0.0410958904109589), ('2012', 0.0319634703196347), ('june', 0.0319634703196347), ('michael', 0.030441400304414), ('2007', 0.0258751902587519), ('place', 0.0228310502283105), ('robert', 0.0197869101978691), ('television', 0.0197869101978691), ('texas', 0.0197869101978691), ('japanese', 0.0197869101978691), ('2003', 0.0182648401826484), ('2006', 0.0167427701674277), ('son', 0.0167427701674277), ('final', 0.0167427701674277), ('york', 0.0167427701674277), ('1989', 0.0167427701674277), ('channel', 0.015220700152207), ('lee', 0.015220700152207), ('los', 0.015220700152207), ('war', 0.0136986301369863), ('born$june', 0.0136986301369863), ('english', 0.0121765601217656), ('adapted', 0.0121765601217656), ('angeles', 0.0121765601217656), ('night', 0.0121765601217656)]), (1, [('film$directed', 0.1877076411960133), ('drama$film', 0.0681063122923588), ('united$state', 0.05647840531561462), ('comedy$film', 0.04318936877076412), ('also$known', 0.03820598006644518), ('film$festival', 0.03488372093023256), ('film$written', 0.03322259136212625), ('film$star', 0.026578073089700997), ('film$based', 0.024916943521594685), ('film$produce', 0.023255813953488372), ('documentary$film', 0.023255813953488372), ('horror$film', 0.018272425249169437), ('written$directed', 0.018272425249169437), ('film$release', 0.018272425249169437), ('film$starring', 0.016611295681063124), ('international$film', 0.016611295681063124), ('based$novel', 0.016611295681063124), ('produce$directed', 0.016611295681063124), ('hong$kong', 0.014950166112956811), ('novel$name', 0.014950166112956811), ('extinct$genus', 0.014950166112956811), ('lead$role', 0.013289036544850499), ('1963', 0.011627906976744186), ('los$angeles', 0.011627906976744186), ('philippine', 0.011627906976744186), ('award$best', 0.011627906976744186), ('written$produce', 0.011627906976744186), ('language$film', 0.011627906976744186), ('action$film', 0.011627906976744186), ('academy$award', 0.011627906976744186)]), (2, [('state', 0.12929623567921442), ('park', 0.06382978723404255), ('national', 0.058919803600654665), ('gastropod$mollusk', 0.049099836333878884), ('mollusk$family', 0.044189852700491), ('indian', 0.0425531914893617), ('feature', 0.04091653027823241), ('marine$gastropod', 0.03927986906710311), ('india', 0.03927986906710311), ('sea$snail', 0.03600654664484452), ('snail$marine', 0.03273322422258593), ('glacier', 0.03273322422258593), ('river$river', 0.031096563011456628), ('specie$sea', 0.031096563011456628), ('new$zealand', 0.029459901800327332), ('2004', 0.02127659574468085), ('national$park', 0.01800327332242226), ('studio', 0.016366612111292964), ('day', 0.014729950900163666), ('james', 0.014729950900163666), ('region$new', 0.014729950900163666), ('ridge', 0.01309328968903437), ('national$team', 0.011456628477905073), ('beach', 0.011456628477905073), ('bear', 0.011456628477905073), ('southwestern', 0.009819967266775777), ('bank', 0.009819967266775777), ('south$island', 0.009819967266775777), ('specie$genus', 0.009819967266775777), ('louis', 0.009819967266775777)]), (18, [('family$found', 0.07375643224699828), ('time', 0.05317324185248713), ('french', 0.05317324185248713), ('include', 0.04288164665523156), ('france', 0.03430531732418525), ('2005', 0.029159519725557463), ('genus$moth', 0.0274442538593482), ('open', 0.025728987993138937), ('italy', 0.022298456260720412), ('moth$noctuidae', 0.02058319039451115), ('larva$feed', 0.02058319039451115), ('noctuidae$family', 0.02058319039451115), ('family$described', 0.018867924528301886), ('make', 0.018867924528301886), ('racing', 0.018867924528301886), ('1966', 0.017152658662092625), ('brian', 0.015437392795883362), ('famous', 0.015437392795883362), ('notable', 0.015437392795883362), ('start', 0.015437392795883362), ('specie$moth', 0.0137221269296741), ('driver', 0.0137221269296741), ('super', 0.0137221269296741), ('international', 0.0137221269296741), ('spanish', 0.0137221269296741), ('race', 0.0137221269296741), ('arctiidae$family', 0.0137221269296741), ('jean', 0.0137221269296741), ('moth$arctiidae', 0.012006861063464836), ('family$known', 0.012006861063464836)]), (16, [('specie', 0.061016949152542375), ('forest', 0.0576271186440678), ('football$league', 0.05423728813559322), ('habitat', 0.05423728813559322), ('tropical', 0.05254237288135593), ('subtropical', 0.04745762711864407), ('endemic', 0.04576271186440678), ('natural', 0.03559322033898305), ('brazil', 0.030508474576271188), ('moist', 0.0288135593220339), ('born$december', 0.025423728813559324), ('american$football', 0.025423728813559324), ('frog', 0.025423728813559324), ('national$football', 0.022033898305084745), ('republic', 0.022033898305084745), ('green', 0.020338983050847456), ('loss', 0.020338983050847456), ('footballer$played', 0.01864406779661017), ('lowland', 0.01694915254237288), ('threatened', 0.01694915254237288), ('african', 0.01694915254237288), ('freshwater', 0.015254237288135594), ('played$college', 0.015254237288135594), ('college$football', 0.015254237288135594), ('familyit', 0.015254237288135594), ('canadian$football', 0.013559322033898305), ('lake$located', 0.013559322033898305), ('work', 0.011864406779661017), ('tree', 0.011864406779661017), ('montane', 0.011864406779661017)]), (19, [('team', 0.06561360874848117), ('born', 0.05953827460510328), ('world', 0.05589307411907655), ('compete', 0.041312272174969626), ('championship', 0.038882138517618466), ('medal', 0.03645200486026731), ('champion', 0.03645200486026731), ('olympics', 0.03523693803159174), ('summer', 0.02916160388821385), ('member', 0.02916160388821385), ('january', 0.027946537059538274), ('1988', 0.026731470230862697), ('event', 0.024301336573511544), ('game', 0.02187120291616039), ('1992', 0.02187120291616039), ('cup', 0.020656136087484813), ('2002', 0.019441069258809233), ('men', 0.019441069258809233), ('2011', 0.019441069258809233), ('2010', 0.018226002430133656), ('2009', 0.01701093560145808), ('100', 0.015795868772782502), ('1968', 0.015795868772782502), ('winter', 0.014580801944106925), ('winner', 0.013365735115431349), ('1980', 0.013365735115431349), ('win', 0.013365735115431349), ('olympic', 0.013365735115431349), ('silver', 0.012150668286755772), ('gold', 0.012150668286755772)])]\n",
      "\n",
      "UMass Coherence Score: -10.43094846472746\n"
     ]
    }
   ],
   "source": [
    "topics = model.get_topics()\n",
    "noise = model.get_noise_distribution()\n",
    "topic_formula = model.show_topics()\n",
    "coherence = model.get_coherent()\n",
    "print(\"Noise:\",noise)\n",
    "print(\"\\nTopics:\", topic_formula)\n",
    "print(\"\\nUMass Coherence Score:\", coherence)"
   ]
  },
  {
   "cell_type": "code",
   "execution_count": 18,
   "id": "365be6aa-9f60-4c2c-bf9a-121f384bff9a",
   "metadata": {},
   "outputs": [],
   "source": [
    "noise_word = [term for term, wt in noise[:50]]\n",
    "noise_wt = [wt for term, wt in noise[:50]]\n",
    "noise_data = pd.DataFrame([noise_word, noise_wt]).T.rename(columns={0:\"Noise_Word\", 1:\"Noise_Weight\"}).sort_values(by=\"Noise_Weight\", ascending=True)"
   ]
  },
  {
   "cell_type": "code",
   "execution_count": 19,
   "id": "bfe345ad-b4b9-4a94-a440-28d8a9c0bfdd",
   "metadata": {},
   "outputs": [],
   "source": [
    "clean_topic = []\n",
    "for topic in topics:\n",
    "    temp=[]\n",
    "    for t in topic:\n",
    "        if t not in noise_word:\n",
    "            temp.append(t)\n",
    "    clean_topic.append(temp)"
   ]
  },
  {
   "cell_type": "code",
   "execution_count": 20,
   "id": "02b32caa-c5a3-41db-a781-1140c34e3250",
   "metadata": {},
   "outputs": [
    {
     "name": "stdout",
     "output_type": "stream",
     "text": [
      "[['range', 'peak', 'hill', 'level', 'metre', 'valley', 'germany', 'canada', 'elevation', 'summit', 'reach', 'province', 'point', 'san', 'foot', 'lower', 'big', 'china', 'border', 'main', 'mount', 'canton', 'pas', 'val', 'slope', 'district'], ['united$state', 'comedy$film', 'also$known', 'film$festival', 'film$written', 'film$star', 'film$based', 'film$produce', 'documentary$film', 'film$release', 'written$directed', 'horror$film', 'based$novel', 'international$film', 'produce$directed', 'novel$name', 'extinct$genus', 'lead$role', '1963', 'language$film', 'los$angeles', 'action$film', 'philippine', 'written$produce', 'north$america', 'film$shot', 'edward', 'take$place'], ['gastropod$mollusk', 'mollusk$family', 'indian', 'feature', 'marine$gastropod', 'india', 'snail$marine', 'specie$sea', '2004', 'national$park', 'studio', 'region$new', 'day', 'james', 'ridge', 'national$team', 'southwestern', 'specie$genus', 'bank', 'louis', 'south$island', 'located$west', 'land$snail', 'flow$generally', 'saint', 'malayalam', 'early'], ['baseball', 'major', 'draft', 'career', 'july', 'college', 'university', '1981', 'nfl', 'round', 'game', 'attended', 'coach', 'japanese', 'brook', 'record', 'ohio', 'offensive', 'pitcher', 'chicago', '1971', 'spent'], ['brown', 'wingspan', 'butterfly', 'black', 'feed', 'mine', 'bird', 'wing', 'adult', 'noctuidae', 'africa', 'arctiidae', 'male', 'costa', 'colombia', 'tortricidae', 'female', 'plant', 'leaf', 'guinea', 'spain', 'kenya', 'bill', 'belonging', 'dark', 'generation', 'panama'], ['island', 'town', 'length', 'zealand', 'kilometre', 'source', 'southwest', 'upper', 'northeast', 'rise', 'spring', 'grand', 'form', 'direction', 'northwestern', 'golden', 'join', 'valea', 'northeastern', 'confluence', 'flowing', 'generally', 'borough', 'northward', 'rio', 'headwater'], ['hockey', 'canadian', 'subtropical$tropical', 'ice', 'november', 'tropical$moist', 'sea$level', 'natural$habitat', 'czech', 'woman', 'habitat$subtropical', 'september', '1986', 'blue', 'signed', 'selected', 'habitat$loss', '1993', 'threatened$habitat', 'entry', 'forest$subtropical', 'european', 'snout$moth', 'moist$lowland', 'montane$forest', 'moist$montane', 'specie$frog', 'familyit$endemic', 'moth$genus'], ['snail', 'marine', 'gastropod', 'mollusk', 'beetle', 'native', 'common', 'fish', 'fly', 'subfamily', 'coral', 'minute', 'centimetre', 'commonly', 'spine', 'similar', 'occur', 'fact', 'body', 'terrestrial', 'serbian$cyrillic', 'ocean', 'snout', '1948', 'eastern', 'make'], ['british', 'story', 'documentary', 'young', 'award', 'enter', 'love', 'screenplay', 'henry', 'paul', 'starred', 'director', 'academy', 'screen', '1941', 'thriller', 'harry', 'location', 'book', 'james', 'true', 'chinese', '1942', 'antonio', 'child', 'wife'], ['made', 'april', 'club', 'australian', 'australia', 'english', 'debut', 'march', 'run', 'rugby', 'considered', '1964', 'wale', 'cricketer', 'match', 'score', 'london', '1947', 'union', 'average', '1995', 'test', 'firstclass', 'queensland', 'cricket', 'kent', 'england', 'irish', 'thomas'], ['long', 'area', 'northern', 'small', 'large', 'reservoir', 'creek', 'water', 'mile', 'basin', 'columbia', 'stream', 'create', 'municipality', 'southeast', 'washington', 'usa', 'surface', 'norway', 'approximately', 'kilometer', 'army', 'kentucky', 'square', 'sweden', 'route', 'km2', 'mouth'], ['comedy', 'movie', 'picture', 'role', 'lead', 'language', 'horror', 'silent', 'david', 'version', 'action', 'actor', 'music', 'shot', '2014', 'production', 'dream', 'filmed', 'adventure', '1938', 'bollywood', 'romantic', 'office', 'art'], ['playing', 'russian', 'december', 'premier', '1984', '1990', '1983', 'defender', 'midfielder', 'serbian', '1985', '2013', 'brother', 'hungarian', 'originally', '2011', '1976', 'age', 'tom', '1975', 'previously', 'amateur', 'striker', 'basketball', 'cyrillic', 'country'], ['series', 'august', 'city', 'john', '2008', '2012', 'june', 'place', 'television', 'texas', 'japanese', 'robert', '2003', 'son', 'york', '1989', '2006', 'final', 'channel', 'los', 'born$june', 'war', 'night', 'adapted', 'angeles', 'mark', 'animated', 'mike', '1978'], ['river$tributary', 'river$romania', 'born$april', 'born$october', 'major$league', 'football$player', 'born$may', 'summer$olympics', 'born$january', 'league$baseball', 'born$september', 'born$august', 'footballer$play', 'currently$play', 'born$february', 'currently$playing', 'player$currently', 'born$july', 'former$professional', 'born$november', 'hockey$league', 'professional$footballer', 'new$york', 'born$march', 'hockey$player', 'new$south', 'south$wale', 'also$played', 'high$school', 'surface$area'], ['year', 'italian', 'title', 'short', 'late', 'life', 'man', 'live', 'home', '1972', 'extinct', '2000', '1959', 'original', '1948', 'follow', 'greek', 'joseph', 'fall', 'great', '1974', 'frank', '1996', 'distributed', 'stage', 'girl', 'period', 'die', 'total'], ['forest', 'habitat', 'football$league', 'tropical', 'subtropical', 'endemic', 'natural', 'brazil', 'moist', 'frog', 'american$football', 'national$football', 'republic', 'green', 'loss', 'footballer$played', 'lowland', 'threatened', 'african', 'familyit', 'freshwater', 'played$college', 'college$football', 'canadian$football', 'lake$located', 'work', 'tree', 'former$american', 'sam', 'ray'], ['southern', 'side', 'east', 'central', 'road', 'region', 'crater', 'bay', 'northwest', 'america', 'coast', 'southeastern', 'moon', 'peru', 'impact', 'argentina', 'rim', 'edge', 'formation', 'craig', 'early', 'catchment', 'steven', 'fly$genus'], ['time', 'french', 'include', 'france', '2005', 'genus$moth', 'open', 'larva$feed', 'noctuidae$family', 'moth$noctuidae', 'make', 'racing', 'family$described', '1966', 'notable', 'brian', 'famous', 'start', 'specie$moth', 'super', 'driver', 'race', 'spanish', 'independent', 'winning', 'florida', 'moth$arctiidae', 'family$known'], ['compete', 'championship', 'champion', 'medal', 'olympics', 'summer', 'member', 'january', '1988', 'event', '1992', 'cup', 'men', '2002', '2010', '2009', '1968', '100', 'winter', 'winner', 'olympic', 'win', '1980', 'gold', 'silver', 'final', 'wrestler', 'asian']]\n"
     ]
    }
   ],
   "source": [
    "print(clean_topic)"
   ]
  },
  {
   "cell_type": "code",
   "execution_count": 21,
   "id": "4de6f01f-6921-4e0b-ad67-bbe28089388f",
   "metadata": {},
   "outputs": [],
   "source": [
    "with open(\"dbpedia_NLDA_topics.csv\", \"w\", newline=\"\") as f:\n",
    "    writer = csv.writer(f)\n",
    "    writer.writerows(clean_topic)"
   ]
  },
  {
   "cell_type": "code",
   "execution_count": 22,
   "id": "bb9dfd5c-8c59-4f54-afa6-fcabe7fed2c7",
   "metadata": {},
   "outputs": [
    {
     "data": {
      "image/png": "[encoded data removed]",
      "text/plain": [
       "<Figure size 864x576 with 1 Axes>"
      ]
     },
     "metadata": {
      "needs_background": "light"
     },
     "output_type": "display_data"
    }
   ],
   "source": [
    "fig, ax = plt.subplots(figsize=(12, 8))\n",
    "ax.barh(noise_data.Noise_Word[:20], noise_data.Noise_Weight[:20], height=0.55, color=\"skyblue\")\n",
    "plt.xlabel(\"Term Frequency\", fontsize=15)\n",
    "plt.xticks(fontsize=12)\n",
    "plt.yticks(fontsize=12)\n",
    "plt.title(\"Noise Term Frequency\", fontsize=20)\n",
    "plt.savefig(\"Noise.png\", dpi=300)"
   ]
  },
  {
   "cell_type": "code",
   "execution_count": null,
   "id": "5c135282-6c8e-46e5-9c98-8b177fcbef20",
   "metadata": {},
   "outputs": [],
   "source": []
  }
 ],
 "metadata": {
  "kernelspec": {
   "display_name": "Python 3",
   "language": "python",
   "name": "python3"
  },
  "language_info": {
   "codemirror_mode": {
    "name": "ipython",
    "version": 3
   },
   "file_extension": ".py",
   "mimetype": "text/x-python",
   "name": "python",
   "nbconvert_exporter": "python",
   "pygments_lexer": "ipython3",
   "version": "3.8.2"
  }
 },
 "nbformat": 4,
 "nbformat_minor": 5
}
