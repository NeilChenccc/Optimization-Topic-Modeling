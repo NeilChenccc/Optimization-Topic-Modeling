{
 "cells": [
  {
   "cell_type": "markdown",
   "id": "b2bef80e-fca1-4c52-be91-851ef60fe462",
   "metadata": {},
   "source": [
    "## Load data from DBPedia"
   ]
  },
  {
   "cell_type": "code",
   "execution_count": 1,
   "id": "9930ec5a-3964-43ea-8a6a-6067dba3c5ec",
   "metadata": {},
   "outputs": [],
   "source": [
    "import datasets\n",
    "import pandas as pd\n",
    "from sklearn.model_selection import train_test_split"
   ]
  },
  {
   "cell_type": "code",
   "execution_count": 2,
   "id": "5b00d28a-ed98-42e0-a725-d9f5dcfe0a2d",
   "metadata": {},
   "outputs": [],
   "source": [
    "data  = pd.read_csv(\"DBPEDIA_test.csv\")"
   ]
  },
  {
   "cell_type": "code",
   "execution_count": 3,
   "id": "c54f9f66-1f4e-4b71-8d55-a4f6d13c6c3e",
   "metadata": {},
   "outputs": [],
   "source": [
    "data = data[(data.l1 == \"Agent\") &(data.l2.isin([\"Athlete\", \"Politician\", \"Artist\", \"Actor\"]))].reset_index(drop=True)"
   ]
  },
  {
   "cell_type": "code",
   "execution_count": 4,
   "id": "87b70846-a280-44ab-a0b0-df1bc9f89784",
   "metadata": {},
   "outputs": [],
   "source": [
    "data = data[[\"text\",\"l2\"]]"
   ]
  },
  {
   "cell_type": "code",
   "execution_count": 5,
   "id": "100ecc8e-5024-41e5-a780-a225ed9e61d4",
   "metadata": {},
   "outputs": [],
   "source": [
    "data_ath, _ = train_test_split(data[data.l2 == \"Athlete\"],train_size=250, random_state=561)\n",
    "data_pol, _ = train_test_split(data[data.l2 == \"Politician\"],train_size=250, random_state=561)\n",
    "data_art, _ = train_test_split(data[data.l2 == \"Artist\"],train_size=250, random_state=561)\n",
    "data_act, _ = train_test_split(data[data.l2 == \"Actor\"],train_size=250, random_state=561)"
   ]
  },
  {
   "cell_type": "code",
   "execution_count": 6,
   "id": "4e7520cc-1aca-45b2-97a5-1b6adbf025b5",
   "metadata": {},
   "outputs": [],
   "source": [
    "data_raw = pd.concat([data_ath, data_pol, data_art, data_act]).reset_index(drop=True).rename(columns = {\"l2\":\"label\"})"
   ]
  },
  {
   "cell_type": "code",
   "execution_count": 7,
   "id": "851071d4-b251-486c-87b5-31e95ad96020",
   "metadata": {},
   "outputs": [
    {
     "data": {
      "text/html": [
       "<div>\n",
       "<style scoped>\n",
       "    .dataframe tbody tr th:only-of-type {\n",
       "        vertical-align: middle;\n",
       "    }\n",
       "\n",
       "    .dataframe tbody tr th {\n",
       "        vertical-align: top;\n",
       "    }\n",
       "\n",
       "    .dataframe thead th {\n",
       "        text-align: right;\n",
       "    }\n",
       "</style>\n",
       "<table border=\"1\" class=\"dataframe\">\n",
       "  <thead>\n",
       "    <tr style=\"text-align: right;\">\n",
       "      <th></th>\n",
       "      <th>text</th>\n",
       "      <th>label</th>\n",
       "    </tr>\n",
       "  </thead>\n",
       "  <tbody>\n",
       "    <tr>\n",
       "      <th>0</th>\n",
       "      <td>Matthew John King (born 25 February 1994) is a...</td>\n",
       "      <td>Athlete</td>\n",
       "    </tr>\n",
       "    <tr>\n",
       "      <th>1</th>\n",
       "      <td>Carlton A. Roles (August 29, 1903 – January 16...</td>\n",
       "      <td>Athlete</td>\n",
       "    </tr>\n",
       "    <tr>\n",
       "      <th>2</th>\n",
       "      <td>James Thiessen (born 10 February 1974) is a fo...</td>\n",
       "      <td>Athlete</td>\n",
       "    </tr>\n",
       "    <tr>\n",
       "      <th>3</th>\n",
       "      <td>Alan Thomas Woodman (7 June 1955 – 8 May 2014)...</td>\n",
       "      <td>Athlete</td>\n",
       "    </tr>\n",
       "    <tr>\n",
       "      <th>4</th>\n",
       "      <td>David McKinley Henderson (born July 21, 1964) ...</td>\n",
       "      <td>Athlete</td>\n",
       "    </tr>\n",
       "    <tr>\n",
       "      <th>...</th>\n",
       "      <td>...</td>\n",
       "      <td>...</td>\n",
       "    </tr>\n",
       "    <tr>\n",
       "      <th>995</th>\n",
       "      <td>Aya Sugimoto (杉本 彩 Sugimoto Aya, born July 19,...</td>\n",
       "      <td>Actor</td>\n",
       "    </tr>\n",
       "    <tr>\n",
       "      <th>996</th>\n",
       "      <td>Misty Rain (born August 10, 1969 in Long Beach...</td>\n",
       "      <td>Actor</td>\n",
       "    </tr>\n",
       "    <tr>\n",
       "      <th>997</th>\n",
       "      <td>Holly Anne Hallstrom (born August 24, 1952) wa...</td>\n",
       "      <td>Actor</td>\n",
       "    </tr>\n",
       "    <tr>\n",
       "      <th>998</th>\n",
       "      <td>Aya Ishizu (石津 彩 Ishizu Aya, born February 22,...</td>\n",
       "      <td>Actor</td>\n",
       "    </tr>\n",
       "    <tr>\n",
       "      <th>999</th>\n",
       "      <td>Floriana Panella (born December 15, 1980), bes...</td>\n",
       "      <td>Actor</td>\n",
       "    </tr>\n",
       "  </tbody>\n",
       "</table>\n",
       "<p>1000 rows × 2 columns</p>\n",
       "</div>"
      ],
      "text/plain": [
       "                                                  text    label\n",
       "0    Matthew John King (born 25 February 1994) is a...  Athlete\n",
       "1    Carlton A. Roles (August 29, 1903 – January 16...  Athlete\n",
       "2    James Thiessen (born 10 February 1974) is a fo...  Athlete\n",
       "3    Alan Thomas Woodman (7 June 1955 – 8 May 2014)...  Athlete\n",
       "4    David McKinley Henderson (born July 21, 1964) ...  Athlete\n",
       "..                                                 ...      ...\n",
       "995  Aya Sugimoto (杉本 彩 Sugimoto Aya, born July 19,...    Actor\n",
       "996  Misty Rain (born August 10, 1969 in Long Beach...    Actor\n",
       "997  Holly Anne Hallstrom (born August 24, 1952) wa...    Actor\n",
       "998  Aya Ishizu (石津 彩 Ishizu Aya, born February 22,...    Actor\n",
       "999  Floriana Panella (born December 15, 1980), bes...    Actor\n",
       "\n",
       "[1000 rows x 2 columns]"
      ]
     },
     "execution_count": 7,
     "metadata": {},
     "output_type": "execute_result"
    }
   ],
   "source": [
    "data_raw"
   ]
  },
  {
   "cell_type": "markdown",
   "id": "38a6301e-a46f-45be-ac9f-f35df5dbddbc",
   "metadata": {},
   "source": [
    "## NLDA model\n",
    "### Data Preparation"
   ]
  },
  {
   "cell_type": "code",
   "execution_count": 8,
   "id": "a36d0593-9673-4b80-8c8e-db810609e017",
   "metadata": {},
   "outputs": [],
   "source": [
    "from settings.common import get_pp_pipeline, load_flat_dataset, save_flat_dataset\n",
    "from settings.ngrams import insert_ngrams_flat_from_lists\n",
    "from preprocessing_pipeline.NextGen import NextGen\n",
    "from settings.common import load_flat_dataset\n",
    "from settings.ngrams import insert_ngrams_flat_from_lists\n",
    "import csv\n",
    "import matplotlib.pyplot as plt\n",
    "import gensim"
   ]
  },
  {
   "cell_type": "code",
   "execution_count": 9,
   "id": "081d35a5-e6a7-4957-ae0e-319192262f7b",
   "metadata": {},
   "outputs": [],
   "source": [
    "pp = get_pp_pipeline(remove_stopwords=True, stem=False, clean_twitter=False, lemmatize=True)"
   ]
  },
  {
   "cell_type": "code",
   "execution_count": 10,
   "id": "cda53ce5-aa1d-4c50-87d5-608e9d8cdad0",
   "metadata": {},
   "outputs": [],
   "source": [
    "raw_data = pd.DataFrame(data_raw.text)"
   ]
  },
  {
   "cell_type": "code",
   "execution_count": 11,
   "id": "aae1e9e4-f073-483c-a310-36f3cf77409d",
   "metadata": {},
   "outputs": [],
   "source": [
    "raw_data.to_csv(\"dbpedia_raw.csv\", header=False, index=False)"
   ]
  },
  {
   "cell_type": "code",
   "execution_count": 12,
   "id": "bd36eee4-de1e-4cd6-a267-a7364df23808",
   "metadata": {},
   "outputs": [],
   "source": [
    "dataset = load_flat_dataset(\"dbpedia_raw.csv\", delimiter=' ')"
   ]
  },
  {
   "cell_type": "code",
   "execution_count": 13,
   "id": "27c20301-91fc-42c5-ae68-f98dbfef8abd",
   "metadata": {},
   "outputs": [],
   "source": [
    "clean_ds = []\n",
    "for data in dataset:\n",
    "    tokens = gensim.utils.simple_preprocess(\" \".join(data))\n",
    "    clean_ds.append(tokens)"
   ]
  },
  {
   "cell_type": "code",
   "execution_count": 15,
   "id": "43b1414d-a325-47e9-b03c-05e006290ea9",
   "metadata": {},
   "outputs": [],
   "source": [
    "save_flat_dataset(\"dbpedia_clean.csv\", clean_ds, delimiter=' ')"
   ]
  },
  {
   "cell_type": "code",
   "execution_count": 16,
   "id": "e0e666a0-e084-4a55-8129-f77f3fbd540a",
   "metadata": {},
   "outputs": [],
   "source": [
    "dataset = []\n",
    "from src.gdtm.helpers.common import load_flat_dataset\n",
    "from src.gdtm.models import GTM, NLDA\n",
    "\n",
    "tnd_path = 'topic-noise-models-source/mallet-tnd/bin/mallet'\n",
    "lda_path = 'topic-noise-models-source/mallet-lda/bin/mallet'\n",
    "gtm_path = 'topic-noise-models-source/mallet-gtm/bin/mallet'\n",
    "dataset = load_flat_dataset(\"dbpedia_clean.csv\")"
   ]
  },
  {
   "cell_type": "code",
   "execution_count": 17,
   "id": "67689667-0b7d-4776-94d4-c8f63fc156e2",
   "metadata": {},
   "outputs": [],
   "source": [
    "all_bigram = []\n",
    "for i in dataset:\n",
    "    tmp = []\n",
    "    for index in range(0,len(i)-1):\n",
    "        tmp.append('$'.join(i[index:index+2]))\n",
    "    all_bigram.append(tmp)\n",
    "dataset.extend(all_bigram)"
   ]
  },
  {
   "cell_type": "code",
   "execution_count": 18,
   "id": "68ba8200-c19f-4027-91a4-1bd17cac7c30",
   "metadata": {},
   "outputs": [
    {
     "data": {
      "text/plain": [
       "2000"
      ]
     },
     "execution_count": 18,
     "metadata": {},
     "output_type": "execute_result"
    }
   ],
   "source": [
    "len(dataset)"
   ]
  },
  {
   "cell_type": "markdown",
   "id": "cf440130-3288-4afd-a977-46cb538bfe39",
   "metadata": {},
   "source": [
    "### Find the best k for NLDA model"
   ]
  },
  {
   "cell_type": "code",
   "execution_count": 37,
   "id": "d4b675c4-337e-4562-a4df-3f43d7392ee7",
   "metadata": {},
   "outputs": [],
   "source": [
    "coherence_list = []\n",
    "for n in range(2, 6):\n",
    "    model = NLDA(dataset=dataset, mallet_tnd_path=tnd_path, mallet_lda_path=lda_path, \n",
    "             tnd_k=n, lda_k=n, tnd_beta1 = int(5*n/6), phi=int(n/3), top_words=30)\n",
    "    coherence_list.append(model.get_coherent())"
   ]
  },
  {
   "cell_type": "code",
   "execution_count": 39,
   "id": "82ef2dda-de5f-4ff5-a7ff-a54fe490d2bb",
   "metadata": {},
   "outputs": [
    {
     "data": {
      "image/png": "[encoded data removed]",
      "text/plain": [
       "<Figure size 720x432 with 1 Axes>"
      ]
     },
     "metadata": {
      "needs_background": "light"
     },
     "output_type": "display_data"
    }
   ],
   "source": [
    "plt.figure(figsize=(10,6))\n",
    "plt.plot(range(2, 6),coherence_list)\n",
    "plt.xlabel(\"Number of Topics\", fontsize=15)\n",
    "plt.ylabel(\"UMass Coherence Score\", fontsize=15)\n",
    "plt.xticks(range(2, 6, 1), fontsize=12)\n",
    "plt.yticks(fontsize=12)\n",
    "plt.title(\"UMass Coherence Score for Different k\", fontsize=20)\n",
    "plt.savefig(\"Coherence_Score.png\", dpi=300)"
   ]
  },
  {
   "cell_type": "markdown",
   "id": "652f2e96-4bef-4c62-8e8a-c7675d8f29a0",
   "metadata": {},
   "source": [
    "### Get the NLDA topics and noise"
   ]
  },
  {
   "cell_type": "code",
   "execution_count": 19,
   "id": "3aed348d-d3d9-479b-aede-fee197d9e0b4",
   "metadata": {},
   "outputs": [],
   "source": [
    "model = NLDA(dataset=dataset, mallet_tnd_path=tnd_path, mallet_lda_path=lda_path, \n",
    "             tnd_k=20, lda_k=20, tnd_beta1=16, phi=10, top_words=30)"
   ]
  },
  {
   "cell_type": "code",
   "execution_count": 20,
   "id": "39f4fa6f-08ac-4345-864a-8ee8f950b5ba",
   "metadata": {},
   "outputs": [
    {
     "name": "stdout",
     "output_type": "stream",
     "text": [
      "Noise: [('of$the', 1300), ('born', 1259), ('in$the', 736), ('american', 575), ('he$was', 551), ('from$to', 400), ('to$the', 374), ('member', 366), ('served', 359), ('played', 354), ('actress', 344), ('at$the', 308), ('team', 285), ('pornographic', 247), ('actor', 242), ('party', 240), ('politician', 238), ('is$an', 218), ('member$of', 216), ('an$american', 212), ('for$the', 195), ('served$as', 190), ('won', 179), ('was$an', 173), ('elected', 167), ('in$he', 163), ('and$the', 151), ('japanese', 145), ('national', 138), ('in$and', 138), ('he$is', 136), ('governor', 135), ('time', 134), ('player', 133), ('was$the', 130), ('february', 128), ('career', 127), ('august', 126), ('september', 125), ('world', 125), ('state', 124), ('united$states', 123), ('june', 122), ('october', 120), ('january', 119), ('united', 115), ('on$the', 114), ('work', 114), ('professional', 113), ('march', 111), ('university', 111), ('april', 109), ('during$the', 108), ('december', 108), ('one$of', 106), ('comic', 106), ('artist', 106), ('south', 105), ('states', 105), ('president', 104), ('series', 102), ('school', 101), ('born$in', 101), ('november', 101), ('is$japanese', 100), ('and$was', 100), ('comics', 100), ('years', 99), ('from$the', 99), ('painter', 99), ('known$for', 98), ('july', 98), ('for$his', 97), ('the$first', 97), ('league', 95), ('season', 95), ('with$the', 93), ('club', 93), ('book', 92), ('voice', 90), ('died', 89), ('the$united', 89), ('by$the', 85), ('in$his', 85), ('county', 84), ('of$his', 82), ('election', 81), ('film', 81), ('championship', 81), ('was$born', 79), ('best$known', 77), ('governor$of', 77), ('mayor', 76), ('canadian', 73), ('john', 72), ('comic$book', 72), ('he$also', 72), ('tour', 72), ('medal', 71), ('war', 71), ('year', 71), ('playing', 71), ('general', 70), ('worked', 70), ('senior', 69), ('house$of', 69), ('australian', 68), ('york', 67), ('olympics', 67), ('he$has', 66), ('summer', 66), ('he$served', 66), ('award', 65), ('new$york', 65), ('fashion', 63), ('law', 62), ('known$as', 61), ('high', 61), ('the$summer', 61), ('president$of', 60), ('and$he', 60), ('de', 59), ('italian', 59), ('football', 59), ('made', 58), ('she$was', 58), ('japanese$voice', 58), ('summer$olympics', 58), ('won$the', 58), ('as$the', 57), ('college', 57), ('university$of', 57), ('writer', 57), ('is$the', 56), ('born$september', 55), ('pornographic$actress', 55), ('director', 55), ('games', 54), ('california', 53), ('he$played', 53), ('appointed', 52), ('british', 52), ('adult', 52), ('retired', 52), ('called', 51), ('council', 50), ('has$been', 50), ('republican', 50), ('the$university', 50), ('age', 50), ('competed', 50), ('active', 50), ('art', 49), ('senate', 49), ('is$former', 49), ('ireland', 49), ('attended', 48), ('including', 48), ('early', 48), ('born$june', 48), ('to$and', 48), ('elected$to', 48), ('japan', 48), ('parliament', 47), ('minister', 47), ('born$august', 47), ('stage', 47), ('event', 47), ('house', 46), ('awards', 46), ('final', 45), ('designer', 45), ('the$national', 45), ('television', 45), ('an$italian', 45), ('coach', 45), ('st', 44), ('she$is', 44), ('democratic', 44), ('representatives', 44), ('of$representatives', 44), ('works', 43), ('born$november', 43), ('major', 43), ('championships', 43), ('the$state', 43), ('the$th', 42), ('debut', 42), ('voice$actress', 42), ('mayor$of', 42), ('office', 42), ('comedian', 42), ('show', 41), ('as$well', 41), ('american$pornographic', 41), ('was$also', 41), ('appeared', 41), ('doubles', 41), ('european', 41), ('medals', 41)]\n",
      "\n",
      "Topics: [(17, [('born', 0.26177215189873415), ('february', 0.06379746835443038), ('november', 0.05113924050632911), ('july', 0.04962025316455696), ('september', 0.04759493670886076), ('june', 0.034430379746835445), ('april', 0.02481012658227848), ('american', 0.017721518987341773), ('english', 0.017215189873417722), ('represented', 0.01620253164556962), ('poker', 0.013164556962025316), ('smith', 0.013164556962025316), ('professional', 0.012658227848101266), ('david', 0.012151898734177215), ('martial', 0.011645569620253165), ('french', 0.011645569620253165), ('spanish', 0.011139240506329114), ('male', 0.011139240506329114), ('brazilian', 0.010632911392405063), ('mixed', 0.010632911392405063), ('france', 0.010126582278481013), ('female', 0.010126582278481013), ('brother', 0.009620253164556962), ('handball', 0.00810126582278481), ('lee', 0.00810126582278481), ('serbian', 0.00810126582278481), ('live', 0.007594936708860759), ('pronunciation', 0.007594936708860759), ('division', 0.007594936708860759), ('current', 0.007088607594936709)]), (8, [('in$the', 0.07826384142173616), ('for$the', 0.04579630895420369), ('he$was', 0.021872863978127138), ('with$the', 0.02050580997949419), ('in$he', 0.019822282980177717), ('he$played', 0.018113465481886533), ('by$the', 0.018113465481886533), ('in$his', 0.01674641148325359), ('is$former', 0.01674641148325359), ('of$his', 0.012987012987012988), ('high$school', 0.011278195488721804), ('played$in', 0.010936431989063569), ('played$for', 0.009911141490088858), ('the$season', 0.009227614490772385), ('an$australian', 0.009227614490772385), ('he$is', 0.00786056049213944), ('his$career', 0.00786056049213944), ('his$first', 0.00786056049213944), ('the$year', 0.007518796992481203), ('american$professional', 0.007518796992481203), ('the$club', 0.007177033492822967), ('he$made', 0.007177033492822967), ('and$was', 0.00683526999316473), ('made$his', 0.00683526999316473), ('footballer$who', 0.00683526999316473), ('also$played', 0.006493506493506494), ('the$south', 0.006493506493506494), ('out$of', 0.006493506493506494), ('football$league', 0.006493506493506494), ('the$end', 0.006151742993848257)]), (1, [('worked', 0.028854080791426217), ('york', 0.02679307502061006), ('award', 0.02679307502061006), ('fashion', 0.025968672712283595), ('art', 0.02019785655399835), ('including', 0.01978565539983512), ('early', 0.01978565539983512), ('designer', 0.018549051937345424), ('works', 0.01772464962901896), ('show', 0.016900247320692497), ('family', 0.015663643858202802), ('moved', 0.015251442704039572), ('business', 0.01483924154987634), ('city', 0.014014839241549877), ('radio', 0.013190436933223413), ('comedy', 0.012778235779060182), ('public', 0.012778235779060182), ('based', 0.011953833470733718), ('number', 0.011541632316570486), ('made', 0.011129431162407255), ('style', 0.010717230008244023), ('academy', 0.010305028854080791), ('chinese', 0.010305028854080791), ('began', 0.010305028854080791), ('white', 0.00989282769991756), ('london', 0.00989282769991756), ('gallery', 0.009068425391591096), ('studied', 0.008656224237427864), ('young', 0.008656224237427864), ('received', 0.008656224237427864)]), (10, [('of$the', 0.06522697223446453), ('during$the', 0.03217276333186426), ('for$the', 0.026884089907448214), ('he$also', 0.020273248126928163), ('the$national', 0.01983252534156016), ('member$of', 0.019391802556192154), ('was$also', 0.018069634200088145), ('was$an', 0.017188188629352136), ('when$he', 0.01630674305861613), ('on$the', 0.01630674305861613), ('with$the', 0.014543851917144116), ('with$his', 0.014543851917144116), ('all$ireland', 0.014103129131776113), ('during$his', 0.013662406346408109), ('between$and', 0.012780960775672102), ('age$of', 0.011018069634200088), ('born$in', 0.010577346848832084), ('number$of', 0.010577346848832084), ('as$one', 0.010136624063464082), ('he$won', 0.00881445570736007), ('the$age', 0.00881445570736007), ('in$and', 0.008373732921992068), ('an$irish', 0.008373732921992068), ('due$to', 0.008373732921992068), ('senior$team', 0.007933010136624064), ('who$played', 0.007933010136624064), ('following$the', 0.00749228735125606), ('the$next', 0.00749228735125606), ('time$he', 0.00749228735125606), ('from$until', 0.007051564565888057)]), (7, [('american', 0.05770065075921909), ('university', 0.04815618221258135), ('school', 0.0438177874186551), ('national', 0.03427331887201735), ('law', 0.026898047722342732), ('high', 0.026464208242950107), ('born', 0.026030368763557483), ('college', 0.02472885032537961), ('california', 0.02299349240780911), ('years', 0.022559652928416486), ('attended', 0.019956616052060738), ('city', 0.019522776572668113), ('major', 0.018655097613882864), ('florida', 0.016052060737527116), ('january', 0.015618221258134491), ('history', 0.01475054229934924), ('st', 0.014316702819956615), ('died', 0.013449023861171366), ('ohio', 0.012581344902386117), ('graduated', 0.011713665943600867), ('big', 0.011279826464208243), ('fourth', 0.011279826464208243), ('degree', 0.010845986984815618), ('john', 0.010412147505422993), ('texas', 0.009978308026030369), ('earned', 0.009544468546637744), ('chicago', 0.00911062906724512), ('due', 0.00824295010845987), ('great', 0.00824295010845987), ('special', 0.0078091106290672455)]), (6, [('august', 0.05464006938421509), ('october', 0.05073720728534258), ('december', 0.046834345186470075), ('president', 0.045099739809193407), ('april', 0.026019080659150044), ('june', 0.023417172593235037), ('died', 0.023417172593235037), ('british', 0.022549869904596703), ('years', 0.020381613183000868), ('prime', 0.017346053772766695), ('political', 0.016912402428447527), ('married', 0.016045099739809193), ('son', 0.014744145706851692), ('role', 0.014744145706851692), ('september', 0.013443191673894189), ('union', 0.012142237640936688), ('government', 0.011708586296617519), ('life', 0.011708586296617519), ('father', 0.011708586296617519), ('administration', 0.010841283607979185), ('republic', 0.010841283607979185), ('west', 0.010407632263660017), ('wife', 0.009540329575021683), ('march', 0.009106678230702514), ('ali', 0.009106678230702514), ('military', 0.009106678230702514), ('death', 0.009106678230702514), ('officer', 0.009106678230702514), ('ukrainian', 0.008673026886383347), ('successful', 0.00823937554206418)]), (9, [('of$the', 0.15087956698240865), ('and$the', 0.05108254397834912), ('one$of', 0.03585926928281461), ('from$the', 0.03349120433017591), ('the$first', 0.032814614343707714), ('at$the', 0.030784844384303112), ('was$the', 0.02401894451962111), ('and$he', 0.02029769959404601), ('university$of', 0.019282814614343707), ('as$the', 0.018606224627875506), ('the$university', 0.016914749661705007), ('to$the', 0.016238159675236806), ('on$the', 0.015561569688768605), ('into$the', 0.011502029769959404), ('was$one', 0.011163734776725304), ('by$the', 0.010825439783491205), ('to$be', 0.010148849797023005), ('the$most', 0.010148849797023005), ('world$war', 0.008457374830852503), ('that$he', 0.008119079837618403), ('the$second', 0.007780784844384303), ('and$his', 0.007780784844384303), ('to$his', 0.007442489851150203), ('director$of', 0.007442489851150203), ('by$his', 0.007442489851150203), ('he$became', 0.0064276048714479025), ('in$in', 0.0064276048714479025), ('the$city', 0.006089309878213802), ('on$to', 0.006089309878213802), ('did$not', 0.005751014884979702)]), (11, [('actress', 0.07029015120555783), ('born', 0.06783816918675929), ('japanese', 0.059256232120964446), ('pornographic', 0.05149162239476911), ('actor', 0.049856967715570084), ('voice', 0.03677973028197793), ('film', 0.03310175725378014), ('model', 0.024111156518185534), ('director', 0.022476501838986515), ('adult', 0.02125051082958725), ('japan', 0.01961585615038823), ('stage', 0.019207192480588477), ('awards', 0.01879852881078872), ('television', 0.018389865140988965), ('comedian', 0.0171638741315897), ('appeared', 0.016755210461789946), ('films', 0.015937883122190438), ('video', 0.015937883122190438), ('star', 0.015120555782590927), ('prefecture', 0.012668573763792398), ('stand', 0.012259910093992644), ('industry', 0.011442582754393135), ('affiliated', 0.011442582754393135), ('porn', 0.011033919084593379), ('av', 0.011033919084593379), ('tv', 0.010625255414793625), ('gay', 0.00939926440539436), ('tokyo', 0.00939926440539436), ('idol', 0.008990600735594606), ('producer', 0.007764609726195341)]), (13, [('in$the', 0.07977941176470588), ('of$the', 0.0713235294117647), ('was$an', 0.04926470588235294), ('he$was', 0.04191176470588235), ('was$born', 0.029044117647058824), ('for$the', 0.028308823529411765), ('born$in', 0.028308823529411765), ('new$york', 0.02389705882352941), ('an$italian', 0.016544117647058824), ('of$his', 0.016176470588235296), ('in$his', 0.013235294117647059), ('italian$painter', 0.0125), ('the$new', 0.01213235294117647), ('where$he', 0.011764705882352941), ('as$an', 0.011029411764705883), ('the$th', 0.009926470588235294), ('part$of', 0.009926470588235294), ('which$he', 0.009926470588235294), ('in$new', 0.009926470588235294), ('painter$of', 0.009558823529411765), ('he$also', 0.009558823529411765), ('worked$as', 0.008455882352941176), ('the$late', 0.008455882352941176), ('died$in', 0.008088235294117648), ('active$in', 0.008088235294117648), ('an$english', 0.007720588235294118), ('he$painted', 0.007352941176470588), ('painter$and', 0.007352941176470588), ('he$worked', 0.007352941176470588), ('his$own', 0.006985294117647059)]), (14, [('in$the', 0.07672634271099744), ('at$the', 0.07270734380708806), ('on$the', 0.023748629886737302), ('the$summer', 0.02228717573986116), ('won$the', 0.021191085129704055), ('summer$olympics', 0.021191085129704055), ('in$he', 0.015345268542199489), ('in$and', 0.014979905005480453), ('born$february', 0.014614541468761417), ('the$world', 0.014249177932042383), ('born$april', 0.01351845085860431), ('born$march', 0.01278772378516624), ('and$in', 0.012422360248447204), ('he$won', 0.01205699671172817), ('the$and', 0.011691633175009134), ('olympics$in', 0.010230179028132993), ('born$january', 0.010230179028132993), ('february$is', 0.010230179028132993), ('competed$in', 0.009864815491413957), ('april$is', 0.009134088417975887), ('march$is', 0.009134088417975887), ('the$united', 0.009134088417975887), ('in$at', 0.008403361344537815), ('the$european', 0.008403361344537815), ('is$retired', 0.008403361344537815), ('united$states', 0.00803799780781878), ('gold$medal', 0.007307270734380708), ('tennis$player', 0.006941907197661673), ('in$two', 0.006576543660942638), ('the$women', 0.006576543660942638)])]\n",
      "\n",
      "UMass Coherence Score: -3.6949201501429485\n"
     ]
    }
   ],
   "source": [
    "topics = model.get_topics()\n",
    "noise = model.get_noise_distribution()\n",
    "topic_formula = model.show_topics()\n",
    "coherence = model.get_coherent()\n",
    "print(\"Noise:\",noise)\n",
    "print(\"\\nTopics:\", topic_formula)\n",
    "print(\"\\nUMass Coherence Score:\", coherence)"
   ]
  },
  {
   "cell_type": "code",
   "execution_count": 21,
   "id": "b52e2b06-92e6-43f1-903b-ba5bedcfe44e",
   "metadata": {},
   "outputs": [],
   "source": [
    "noise_word = [term for term, wt in noise[:50]]\n",
    "noise_wt = [wt for term, wt in noise[:50]]\n",
    "noise_data = pd.DataFrame([noise_word, noise_wt]).T.rename(columns={0:\"Noise_Word\", 1:\"Noise_Weight\"}).sort_values(by=\"Noise_Weight\", ascending=True)"
   ]
  },
  {
   "cell_type": "code",
   "execution_count": 22,
   "id": "bfe345ad-b4b9-4a94-a440-28d8a9c0bfdd",
   "metadata": {},
   "outputs": [],
   "source": [
    "clean_topic = []\n",
    "for topic in topics:\n",
    "    temp=[]\n",
    "    for t in topic:\n",
    "        if t not in noise_word:\n",
    "            temp.append(t)\n",
    "    clean_topic.append(temp)"
   ]
  },
  {
   "cell_type": "code",
   "execution_count": 23,
   "id": "02b32caa-c5a3-41db-a781-1140c34e3250",
   "metadata": {},
   "outputs": [
    {
     "name": "stdout",
     "output_type": "stream",
     "text": [
      "[['election', 'mayor', 'canadian', 'general', 'appointed', 'council', 'john', 'parliament', 'minister', 'house', 'south', 'term', 'county', 'conservative', 'deputy', 'north', 'local', 'held', 'federal', 'secretary', 'norwegian', 'lawyer', 'leader', 'labour', 'previously', 'assembly'], ['worked', 'york', 'award', 'fashion', 'art', 'including', 'early', 'designer', 'works', 'show', 'family', 'moved', 'business', 'city', 'radio', 'comedy', 'public', 'based', 'made', 'style', 'academy', 'chinese', 'began', 'london', 'white', 'gallery', 'studied', 'received', 'young', 'design'], ['known$for', 'for$his', 'best$known', 'comic$book', 'he$has', 'known$as', 'has$been', 'as$well', 'is$also', 'such$as', 'his$work', 'well$as', 'american$comic', 'has$also', 'and$has', 'born$october', 'is$best', 'also$known', 'october$is', 'hall$of', 'born$is', 'fashion$designer', 'who$has', 'stand$up', 'writer$and', 'born$july', 'book$artist'], ['is$japanese', 'she$was', 'japanese$voice', 'is$the', 'born$september', 'pornographic$actress', 'born$june', 'born$august', 'she$is', 'born$november', 'voice$actress', 'american$pornographic', 'september$is', 'actress$and', 'november$is', 'voice$actor', 'august$is', 'june$is', 'born$may', 'may$is', 'she$has', 'stage$name', 'actor$and', 'for$her', 'pornographic$actor', 'born$december', 'affiliated$with', 'in$she'], ['governor$of', 'president$of', 'as$the', 'to$and', 'and$was', 'mayor$of', 'who$was', 'to$he', 'the$th', 'was$elected', 'minister$of', 'prime$minister', 'during$the', 'was$appointed', 'politician$who', 'was$member', 'politician$and', 'and$politician', 'march$was', 'is$member', 'the$canadian', 'who$served', 'as$member', 'general$election', 'and$then', 'of$commons', 'elected$to'], ['states', 'war', 'republican', 'senate', 'democratic', 'representatives', 'office', 'missouri', 'congress', 'district', 'jersey', 'senator', 'massachusetts', 'carolina', 'representative', 'candidate', 'illinois', 'practice', 'court', 'island', 'democrat', 'james', 'defeated', 'serving'], ['december', 'president', 'april', 'died', 'british', 'years', 'political', 'married', 'role', 'son', 'union', 'life', 'government', 'father', 'administration', 'republic', 'west', 'wife', 'ali', 'military', 'death', 'officer', 'ukrainian', 'vice', 'successful', 'service'], ['university', 'school', 'law', 'high', 'college', 'california', 'years', 'attended', 'major', 'florida', 'history', 'st', 'died', 'ohio', 'graduated', 'fourth', 'big', 'degree', 'john', 'texas', 'earned', 'chicago', 'due', 'great', 'special', 'teacher', 'michael'], ['with$the', 'he$played', 'by$the', 'is$former', 'in$his', 'of$his', 'high$school', 'played$in', 'played$for', 'the$season', 'an$australian', 'his$first', 'his$career', 'american$professional', 'the$year', 'he$made', 'the$club', 'made$his', 'also$played', 'out$of', 'football$league', 'the$south', 'on$may', 'it$was', 'the$end', 'the$nba', 'played$with'], ['one$of', 'from$the', 'the$first', 'and$he', 'university$of', 'the$university', 'into$the', 'was$one', 'by$the', 'to$be', 'the$most', 'world$war', 'that$he', 'the$second', 'and$his', 'to$his', 'by$his', 'director$of', 'he$became', 'in$in', 'the$city', 'on$to', 'the$only', 'and$became', 'did$not'], ['during$the', 'he$also', 'the$national', 'was$also', 'when$he', 'with$his', 'with$the', 'all$ireland', 'during$his', 'between$and', 'age$of', 'born$in', 'as$one', 'the$age', 'he$won', 'due$to', 'an$irish', 'who$played', 'senior$team', 'the$next', 'following$the', 'time$he', 'from$until', 'involved$in', 'retired$from', 'june$was', 'also$won'], ['voice', 'film', 'director', 'adult', 'japan', 'stage', 'awards', 'television', 'comedian', 'appeared', 'video', 'films', 'star', 'prefecture', 'stand', 'affiliated', 'industry', 'porn', 'av', 'tv', 'tokyo', 'gay', 'idol', 'producer', 'singer', 'appearances'], ['championship', 'tour', 'medal', 'senior', 'county', 'ireland', 'event', 'final', 'championships', 'club', 'doubles', 'european', 'medals', 'tennis', 'winning', 'champion', 'level', 'win', 'age', 'open', 'retired', 'irish', 'retirement'], ['was$born', 'born$in', 'new$york', 'an$italian', 'of$his', 'in$his', 'the$new', 'where$he', 'as$an', 'which$he', 'in$new', 'part$of', 'painter$of', 'he$also', 'the$late', 'worked$as', 'died$in', 'active$in', 'an$english', 'he$painted', 'painter$and', 'he$worked', 'the$early', 'his$own', 'to$have', 'th$century', 'and$was', 'from$his', 'the$last'], ['the$summer', 'summer$olympics', 'won$the', 'born$february', 'the$world', 'born$april', 'born$march', 'and$in', 'the$and', 'february$is', 'born$january', 'olympics$in', 'competed$in', 'march$is', 'the$united', 'april$is', 'in$at', 'is$retired', 'the$european', 'gold$medal', 'tennis$player', 'in$two', 'the$women', 'team$in', 'was$awarded'], ['comic', 'artist', 'series', 'comics', 'book', 'writer', 'company', 'manga', 'hall', 'popular', 'magazine', 'paul', 'fame', 'long', 'illustrator', 'called', 'books', 'published', 'age', 'dc', 'featured', 'cartoonist', 'marvel', 'man', 'creator', 'include', 'written', 'working'], ['painter', 'olympics', 'summer', 'de', 'italian', 'competed', 'active', 'german', 'san', 'gold', 'period', 'record', 'painted', 'place', 'swimmer', 'chess', 'century', 'board', 'swimming', 'olympic', 'events', 'called', 'freestyle', 'individual', 'giovanni', 'native', 'finished', 'maria', 'bronze'], ['november', 'july', 'april', 'represented', 'poker', 'smith', 'david', 'martial', 'french', 'spanish', 'male', 'mixed', 'brazilian', 'female', 'france', 'brother', 'lee', 'serbian', 'handball', 'pronunciation', 'division', 'current', 'steve', 'association', 'artistic'], ['league', 'season', 'year', 'playing', 'australian', 'south', 'football', 'games', 'club', 'coach', 'game', 'debut', 'basketball', 'australia', 'rugby', 'footballer', 'baseball', 'made', 'cricket', 'retired', 'play', 'named', 'nba', 'match', 'captain', 'ten', 'plays'], ['house$of', 'he$served', 'the$united', 'of$representatives', 'the$state', 'and$was', 'new$jersey', 'elected$as', 'the$house', 'elected$to', 'and$served', 'graduated$from', 'moved$to', 'his$death', 'served$in', 'december$was', 'november$was', 'until$his', 'attended$the', 'representatives$from', 'in$to', 'rhode$island', 'state$of', 'died$in']]\n"
     ]
    }
   ],
   "source": [
    "print(clean_topic)"
   ]
  },
  {
   "cell_type": "code",
   "execution_count": 24,
   "id": "4de6f01f-6921-4e0b-ad67-bbe28089388f",
   "metadata": {},
   "outputs": [],
   "source": [
    "with open(\"dbpedia_NLDA_topics.csv\", \"w\", newline=\"\") as f:\n",
    "    writer = csv.writer(f)\n",
    "    writer.writerows(clean_topic)"
   ]
  },
  {
   "cell_type": "code",
   "execution_count": 25,
   "id": "bb9dfd5c-8c59-4f54-afa6-fcabe7fed2c7",
   "metadata": {},
   "outputs": [
    {
     "data": {
      "image/png": "[encoded data removed]",
      "text/plain": [
       "<Figure size 864x576 with 1 Axes>"
      ]
     },
     "metadata": {
      "needs_background": "light"
     },
     "output_type": "display_data"
    }
   ],
   "source": [
    "fig, ax = plt.subplots(figsize=(12, 8))\n",
    "ax.barh(noise_data.Noise_Word[30:], noise_data.Noise_Weight[30:], height=0.55, color=\"skyblue\")\n",
    "plt.xlabel(\"Term Frequency\", fontsize=15)\n",
    "plt.xticks(fontsize=12)\n",
    "plt.yticks(fontsize=12)\n",
    "plt.title(\"Noise Term Frequency\", fontsize=20)\n",
    "plt.savefig(\"Noise.png\", dpi=300)"
   ]
  },
  {
   "cell_type": "markdown",
   "id": "50be5785-2a4f-4527-a511-3dd05537224f",
   "metadata": {},
   "source": [
    "### Guided Topic Modeling (GTM)"
   ]
  },
  {
   "cell_type": "code",
   "execution_count": 26,
   "id": "2d7b17a1-acaa-4506-9eea-805b48841fb8",
   "metadata": {},
   "outputs": [
    {
     "data": {
      "text/plain": [
       "2000"
      ]
     },
     "execution_count": 26,
     "metadata": {},
     "output_type": "execute_result"
    }
   ],
   "source": [
    "len(dataset)"
   ]
  },
  {
   "cell_type": "code",
   "execution_count": 27,
   "id": "4d416776-22ae-4837-b8ca-bba90acc07e3",
   "metadata": {},
   "outputs": [],
   "source": [
    "dataset = load_flat_dataset(\"dbpedia_clean.csv\")"
   ]
  },
  {
   "cell_type": "code",
   "execution_count": 28,
   "id": "837c4ee4-37ec-42d9-bc16-1c256843aeb6",
   "metadata": {},
   "outputs": [],
   "source": [
    "# add bigrams to the dataset\n",
    "seed_topics_file = \"dbpedia_seed_topics.csv\"\n",
    "\n",
    "ngrams = []\n",
    "with open(seed_topics_file, 'r') as f:\n",
    "    for line in f:\n",
    "        topic = line.strip().split(',')\n",
    "        for w in topic:\n",
    "            if '$' in w:\n",
    "                ngrams.append(w)\n",
    "dataset = insert_ngrams_flat_from_lists(dataset, ngrams, [])\n",
    "all_bigram = []\n",
    "for i in dataset:\n",
    "    tmp = []\n",
    "    for index in range(0,len(i)-1):\n",
    "        tmp.append('$'.join(i[index:index+2]))\n",
    "    all_bigram.append(tmp)\n",
    "dataset.extend(all_bigram)"
   ]
  },
  {
   "cell_type": "code",
   "execution_count": 29,
   "id": "356e5bcf-f036-4245-98e6-5acfd3209291",
   "metadata": {},
   "outputs": [],
   "source": [
    "model = GTM(dataset=dataset, mallet_tnd_path=tnd_path, mallet_gtm_path=gtm_path, \n",
    "              tnd_k=20, gtm_k=20, tnd_beta1 = 16, over_sampling_factor=100, phi=10,\n",
    "              top_words=20,tnd_iterations=1000, gtm_iterations=1000, seed_topics_file=seed_topics_file)"
   ]
  },
  {
   "cell_type": "code",
   "execution_count": 30,
   "id": "d05f1a4d-b0d2-4d9d-ae22-fe6763420721",
   "metadata": {},
   "outputs": [
    {
     "name": "stdout",
     "output_type": "stream",
     "text": [
      "Noise: [('of$the', 1273), ('born', 1107), ('in$the', 905), ('he$was', 656), ('from$to', 399), ('team', 342), ('played', 341), ('to$the', 336), ('american', 314), ('at$the', 308), ('served', 274), ('governor', 263), ('politician', 254), ('pornographic', 248), ('party', 230), ('is$an', 218), ('served$as', 202), ('member', 191), ('elected', 187), ('an$american', 184), ('for$the', 184), ('member$of', 175), ('actress', 169), ('and$the', 159), ('he$is', 159), ('on$the', 148), ('japanese', 145), ('united', 138), ('player', 133), ('national', 129), ('august', 127), ('in$he', 125), ('united$states', 123), ('state', 123), ('actor', 122), ('was$an', 121), ('september', 118), ('january', 117), ('world', 117), ('as$the', 114), ('work', 114), ('university', 111), ('south', 108), ('born$in', 108), ('during$the', 108), ('in$and', 107), ('career', 107), ('series', 107), ('artist', 106), ('october', 104), ('president', 104), ('june', 101), ('professional', 101), ('comics', 100), ('is$japanese', 100), ('school', 100), ('for$his', 99), ('painter', 99), ('march', 97), ('season', 95), ('league', 95), ('july', 94), ('club', 93), ('voice', 90), ('the$united', 89), ('won', 88), ('made', 86), ('in$his', 85), ('by$the', 85), ('years', 84), ('april', 83), ('november', 83), ('john', 82), ('film', 81), ('one$of', 80), ('february', 80), ('election', 80), ('city', 79), ('was$elected', 78), ('december', 77), ('best$known', 77), ('governor$of', 77), ('mayor', 76), ('was$born', 75), ('was$the', 74), ('championship', 74), ('from$the', 73), ('canadian', 73), ('tour', 72), ('year', 72), ('comic$book', 72), ('war', 72), ('he$also', 71), ('de', 71), ('house', 71), ('playing', 70), ('the$th', 69), ('house$of', 69), ('is$the', 69), ('australian', 68), ('senior', 67), ('new$york', 65), ('minister', 65), ('italian', 64), ('time', 64), ('games', 64), ('york', 64), ('called', 63), ('fashion', 63), ('of$his', 62), ('law', 62), ('high', 61), ('president$of', 60), ('county', 59), ('model', 59), ('with$the', 58), ('summer$olympics', 58), ('won$the', 58), ('japanese$voice', 58), ('she$was', 58), ('best$known$for', 57), ('university$of', 57), ('retired', 57), ('writer', 57), ('he$has', 57), ('college', 57), ('and$he', 56), ('the$summer$olympics', 55), ('pornographic$actress', 55), ('born$september', 55), ('appointed', 54), ('he$played', 53), ('general', 53), ('california', 53), ('adult', 53), ('director', 53), ('british', 52), ('has$been', 52), ('to$and', 51), ('the$university', 51), ('he$served', 51), ('worked', 51), ('active', 51), ('represented', 50), ('known$as', 50), ('competed', 50), ('republican', 50), ('council', 50), ('known$for', 49), ('medal', 49), ('ireland', 49), ('and$in', 49), ('senate', 49), ('to$he', 49), ('born$june', 48), ('japan', 48), ('event', 47), ('parliament', 47), ('stage', 47), ('debut', 46), ('attended', 46), ('awards', 46), ('where$he', 45), ('an$italian', 45), ('football', 45), ('coach', 45), ('designer', 45), ('television', 45), ('game', 44), ('of$representatives', 44), ('she$is', 44), ('and$was', 44), ('representatives', 44), ('democratic', 44), ('government', 44), ('major', 44), ('medals', 43), ('championships', 43), ('the$state', 43), ('winning', 43), ('born$november', 43), ('european', 42), ('voice$actress', 42), ('comedian', 42), ('william', 41), ('award', 41), ('born$august', 41), ('american$pornographic', 41), ('appeared', 41), ('show', 41), ('is$also', 40), ('german', 40), ('doubles', 40), ('san', 40), ('born$february', 40), ('missouri', 40), ('prime', 40), ('such$as', 39), ('his$work', 39), ('september$is', 39)]\n",
      "\n",
      "Topics: [(0, [('is$an', 0.10116009280742459), ('he$is', 0.07378190255220418), ('an$american', 0.06357308584686774), ('for$his', 0.04593967517401392), ('best$known$for', 0.026450116009280742), ('known$as', 0.02320185614849188), ('born$june', 0.022273781902552203), ('known$for', 0.019953596287703015), ('is$also', 0.018561484918793503), ('such$as', 0.018097447795823667), ('his$work', 0.018097447795823667), ('american$comic$book', 0.01577726218097448), ('born$october', 0.01531322505800464), ('born$is', 0.01531322505800464), ('june$is', 0.014385150812064965), ('is$best$known', 0.013921113689095127), ('also$known', 0.01345707656612529), ('october$is', 0.012993039443155453), ('as$the', 0.012064965197215777), ('writer$and', 0.010672853828306265)]), (8, [('at$the', 0.12251392203659507), ('in$the', 0.1101829753381066), ('on$the', 0.0330151153540175), ('in$and', 0.023468575974542563), ('won$the', 0.023070803500397773), ('for$the', 0.023070803500397773), ('the$summer$olympics', 0.021877486077963405), ('in$he', 0.017104216388225936), ('the$world', 0.014319809069212411), ('he$won', 0.013126491646778043), ('the$and', 0.012728719172633254), ('the$year', 0.012330946698488464), ('summer$olympics$in', 0.011137629276054098), ('competed$in', 0.010739856801909307), ('and$in', 0.00954653937947494), ('born$march', 0.00954653937947494), ('she$also', 0.00954653937947494), ('in$at', 0.009148766905330152), ('the$european', 0.009148766905330152), ('is$retired', 0.008750994431185362)]), (11, [('and$the', 0.04072598494909252), ('new$york', 0.02877379371403276), ('she$was', 0.025675077467906152), ('he$has', 0.025232403718459494), ('born$september', 0.02434705621956618), ('has$been', 0.023019034971226208), ('by$the', 0.019034971226206288), ('september$is', 0.017264276228419653), ('as$well', 0.016821602478972998), ('well$as', 0.01593625498007968), ('born$april', 0.015050907481186366), ('has$also', 0.014608233731739707), ('in$she', 0.014608233731739707), ('and$has', 0.01416555998229305), ('an$american', 0.013722886232846392), ('appeared$in', 0.013280212483399735), ('she$has', 0.013280212483399735), ('for$her', 0.012837538733953076), ('the$first', 0.012837538733953076), ('in$new', 0.01195219123505976)]), (12, [('of$the', 0.07320754716981132), ('he$was', 0.0369811320754717), ('member$of', 0.036226415094339624), ('as$the', 0.03320754716981132), ('governor$of', 0.029056603773584905), ('was$the', 0.026415094339622643), ('the$th', 0.02490566037735849), ('and$the', 0.023773584905660377), ('president$of', 0.022641509433962263), ('served$as', 0.015471698113207547), ('prime$minister', 0.014339622641509434), ('minister$of', 0.013962264150943397), ('politician$who', 0.009433962264150943), ('world$war', 0.009433962264150943), ('january$was', 0.009433962264150943), ('and$politician', 0.009056603773584906), ('mayor$of', 0.009056603773584906), ('and$as', 0.008679245283018867), ('march$was', 0.008679245283018867), ('the$canadian', 0.008679245283018867)]), (3, [('to$the', 0.04499685336689742), ('united$states', 0.03870358716173694), ('he$was', 0.03429830081812461), ('of$the', 0.02957835116425425), ('the$united', 0.02800503461296413), ('in$the', 0.027061044682190057), ('served$as', 0.02643171806167401), ('from$the', 0.022970421648835747), ('house$of', 0.02171176840780365), ('university$of', 0.017935808684707365), ('was$elected', 0.01762114537444934), ('in$he', 0.01667715544367527), ('he$served', 0.016047828823159218), ('the$university', 0.016047828823159218), ('in$and', 0.015103838892385148), ('of$representatives', 0.013845185651353053), ('the$state', 0.013530522341095029), ('new$jersey', 0.009754562617998742), ('the$house', 0.008495909376966647), ('elected$to', 0.008181246066708621)]), (13, [('in$the', 0.06208425720620843), ('for$the', 0.04656319290465632), ('in$he', 0.026607538802660754), ('in$his', 0.022172949002217297), ('with$the', 0.02032520325203252), ('he$played', 0.01958610495195861), ('and$was', 0.016260162601626018), ('by$the', 0.015521064301552107), ('high$school', 0.012195121951219513), ('played$in', 0.011825572801182557), ('to$be', 0.011086474501108648), ('played$for', 0.010716925351071693), ('the$season', 0.010347376201034738), ('an$australian', 0.009977827050997782), ('is$former', 0.009608277900960829), ('and$in', 0.009238728750923873), ('was$named', 0.008130081300813009), ('he$made', 0.007760532150776054), ('the$club', 0.007760532150776054), ('his$first', 0.007760532150776054)]), (2, [('of$the', 0.1710794297352342), ('in$the', 0.06924643584521385), ('was$an', 0.049287169042769856), ('one$of', 0.032586558044806514), ('of$his', 0.02525458248472505), ('where$he', 0.018329938900203666), ('an$italian', 0.018329938900203666), ('for$the', 0.014663951120162933), ('he$also', 0.014663951120162933), ('into$the', 0.014663951120162933), ('italian$painter', 0.01384928716904277), ('was$one', 0.013441955193482688), ('he$was', 0.013034623217922607), ('the$most', 0.012219959266802444), ('part$of', 0.010997963340122199), ('of$fame', 0.010997963340122199), ('hall$of', 0.010997963340122199), ('painter$of', 0.010590631364562118), ('born$in', 0.010183299389002037), ('in$his', 0.010183299389002037)]), (19, [('born', 0.07235142118863049), ('actress', 0.06386120339608711), ('japanese', 0.05352528608342562), ('pornographic', 0.046511627906976744), ('actor', 0.045035068290882246), ('voice', 0.03322259136212625), ('film', 0.029900332225913623), ('model', 0.02177925433739387), ('adult', 0.019564414913252122), ('director', 0.019564414913252122), ('japan', 0.017718715393133997), ('stage', 0.017349575489110373), ('awards', 0.01698043558508675), ('television', 0.016611295681063124), ('comedian', 0.015503875968992248), ('appeared', 0.015134736064968624), ('show', 0.015134736064968624), ('films', 0.014396456256921373), ('video', 0.014396456256921373), ('star', 0.012919896640826873)]), (16, [('member', 0.04357436059362172), ('politician', 0.04167982317650774), ('party', 0.03852226081465109), ('president', 0.03283864856330913), ('served', 0.02557625513103884), ('election', 0.025260498894853173), ('mayor', 0.023997473950110516), ('canadian', 0.02305020524155352), ('elected', 0.0214714240606252), ('minister', 0.020524155352068203), ('general', 0.01673508051784023), ('appointed', 0.016419324281654563), ('council', 0.015787811809283233), ('parliament', 0.01484054310072624), ('government', 0.013893274392169246), ('prime', 0.012630249447426587), ('political', 0.012314493211240922), ('canada', 0.011367224502683928), ('december', 0.011051468266498263), ('term', 0.0107357120303126)]), (10, [('is$japanese', 0.04945598417408507), ('is$the', 0.03412462908011869), ('japanese$voice', 0.028684470820969338), ('pornographic$actress', 0.027200791295746787), ('an$american', 0.02324431256181998), ('she$is', 0.021760633036597428), ('born$november', 0.02126607319485658), ('voice$actress', 0.020771513353115726), ('american$pornographic', 0.020276953511374877), ('born$august', 0.020276953511374877), ('born$february', 0.019782393669634024), ('born$july', 0.017804154302670624), ('november$is', 0.01730959446092977), ('born$may', 0.01730959446092977), ('born$december', 0.01730959446092977), ('actress$and', 0.01730959446092977), ('voice$actor', 0.01730959446092977), ('july$is', 0.016320474777448073), ('august$is', 0.016320474777448073), ('february$is', 0.01582591493570722)])]\n",
      "\n",
      "UMass Coherence Score: -3.555294926923504\n"
     ]
    }
   ],
   "source": [
    "topics = model.get_topics()\n",
    "noise = model.get_noise_distribution()\n",
    "topic_formula = model.show_topics()\n",
    "coherence = model.get_coherent()\n",
    "print(\"Noise:\",noise)\n",
    "print(\"\\nTopics:\", topic_formula)\n",
    "print(\"\\nUMass Coherence Score:\", coherence)"
   ]
  },
  {
   "cell_type": "code",
   "execution_count": 31,
   "id": "71711ccd-0f51-448c-a29f-d397c6c207c2",
   "metadata": {},
   "outputs": [],
   "source": [
    "noise_word = [term for term, wt in noise[:50]]\n",
    "noise_wt = [wt for term, wt in noise[:50]]\n",
    "noise_data = pd.DataFrame([noise_word, noise_wt]).T.rename(columns={0:\"Noise_Word\", 1:\"Noise_Weight\"}).sort_values(by=\"Noise_Weight\", ascending=True)"
   ]
  },
  {
   "cell_type": "code",
   "execution_count": 32,
   "id": "b3b03fed-13bd-4037-a267-9ed59ec1a653",
   "metadata": {},
   "outputs": [],
   "source": [
    "clean_topic = []\n",
    "for topic in topics:\n",
    "    temp=[]\n",
    "    for t in topic:\n",
    "        if t not in noise_word:\n",
    "            temp.append(t)\n",
    "    clean_topic.append(temp)"
   ]
  },
  {
   "cell_type": "code",
   "execution_count": 33,
   "id": "9d827c0f-137f-473f-b679-a54d51613770",
   "metadata": {},
   "outputs": [
    {
     "name": "stdout",
     "output_type": "stream",
     "text": [
      "[['for$his', 'best$known$for', 'known$as', 'born$june', 'known$for', 'is$also', 'such$as', 'his$work', 'american$comic$book', 'born$is', 'born$october', 'june$is', 'is$best$known', 'october$is', 'writer$and', 'comic$book$artist'], ['won', 'time', 'summer$olympics', 'competed', 'event', 'represented', 'championships', 'european', 'german', 'women', 'international', 'record', 'games', 'number', 'swimmer', 'place', 'states'], ['one$of', 'of$his', 'where$he', 'an$italian', 'into$the', 'he$also', 'italian$painter', 'was$one', 'the$most', 'part$of', 'hall$of', 'of$fame', 'painter$of', 'in$his', 'november$was', 'active$in'], ['the$united', 'from$the', 'house$of', 'university$of', 'was$elected', 'the$university', 'he$served', 'of$representatives', 'the$state', 'the$house', 'elected$as', 'and$served', 'elected$to', 'graduated$from', 'his$death'], ['june', 'july', 'april', 'november', 'february', 'called', 'british', 'john', 'union', 'radio', 'life', 'english', 'brother', 'west'], ['club', 'championship', 'senior', 'county', 'retired', 'medal', 'ireland', 'football', 'made', 'winning', 'medals', 'doubles', 'final', 'plays', 'tennis', 'round', 'cup'], ['painter', 'december', 'de', 'italian', 'worked', 'active', 'san', 'died', 'married', 'early', 'period', 'painted', 'art', 'century', 'studied', 'works', 'london', 'native', 'giovanni'], ['professional', 'season', 'league', 'tour', 'year', 'playing', 'australian', 'coach', 'made', 'game', 'debut', 'australia', 'rugby', 'footballer', 'games', 'baseball', 'win', 'cricket'], ['won$the', 'the$summer$olympics', 'the$world', 'he$won', 'the$and', 'the$year', 'summer$olympics$in', 'competed$in', 'and$in', 'she$also', 'born$march', 'the$european', 'in$at', 'is$retired', 'tennis$player', 'team$in'], ['comics', 'best$known', 'comic$book', 'fashion', 'writer', 'designer', 'award', 'manga', 'comic', 'hall', 'magazine', 'paul', 'based', 'character', 'illustrator', 'long'], ['is$japanese', 'is$the', 'japanese$voice', 'pornographic$actress', 'she$is', 'born$november', 'voice$actress', 'born$august', 'american$pornographic', 'born$february', 'born$july', 'voice$actor', 'november$is', 'born$may', 'actress$and', 'born$december', 'august$is', 'july$is', 'february$is'], ['new$york', 'she$was', 'he$has', 'born$september', 'has$been', 'by$the', 'september$is', 'as$well', 'well$as', 'born$april', 'in$she', 'and$has', 'she$has', 'appeared$in', 'the$first', 'for$her', 'in$new', 'fashion$designer', 'worked$as'], ['governor$of', 'was$the', 'the$th', 'president$of', 'prime$minister', 'minister$of', 'world$war', 'politician$who', 'january$was', 'and$politician', 'mayor$of', 'and$as', 'march$was', 'who$served', 'the$canadian', 'general$election', 'director$of', 'to$his'], ['in$his', 'with$the', 'he$played', 'and$was', 'by$the', 'high$school', 'played$in', 'played$for', 'the$season', 'an$australian', 'is$former', 'and$in', 'was$named', 'the$club', 'he$made', 'his$first', 'who$played', 'also$played'], ['march', 'war', 'house', 'law', 'republican', 'senate', 'john', 'representatives', 'democratic', 'missouri', 'district', 'florida', 'congress', 'william', 'senator'], ['was$born', 'and$he', 'to$he', 'to$and', 'who$was', 'was$also', 'was$appointed', 'was$member', 'he$became', 'died$in', 'between$and', 'october$was', 'that$he', 'he$died', 'which$he', 'was$elected'], ['president', 'election', 'mayor', 'canadian', 'minister', 'general', 'appointed', 'council', 'parliament', 'government', 'prime', 'political', 'canada', 'term', 'conservative', 'deputy', 'years'], ['school', 'city', 'york', 'high', 'college', 'years', 'california', 'attended', 'major', 'basketball', 'family', 'public', 'began', 'part', 'received', 'ohio', 'led'], ['he$also', 'his$career', 'with$his', 'the$national', 'all$ireland', 'when$he', 'born$january', 'age$of', 'as$one', 'during$his', 'the$age', 'by$his', 'an$irish', 'january$is', 'on$to', 'senior$team', 'the$next', 'following$the'], ['voice', 'film', 'model', 'adult', 'director', 'japan', 'stage', 'awards', 'television', 'comedian', 'appeared', 'show', 'films', 'video', 'star', 'comedy', 'prefecture']]\n"
     ]
    }
   ],
   "source": [
    "print(clean_topic)"
   ]
  },
  {
   "cell_type": "code",
   "execution_count": 34,
   "id": "d113c5a7-d5ab-4336-b4dc-cc55cb5b5f25",
   "metadata": {},
   "outputs": [],
   "source": [
    "with open(\"dbpedia_GTM_topics.csv\", \"w\", newline=\"\") as f:\n",
    "    writer = csv.writer(f)\n",
    "    writer.writerows(clean_topic)"
   ]
  },
  {
   "cell_type": "code",
   "execution_count": 35,
   "id": "d349c96d-a7ab-487b-ade1-95274cd48128",
   "metadata": {},
   "outputs": [
    {
     "data": {
      "image/png": "[encoded data removed]",
      "text/plain": [
       "<Figure size 864x576 with 1 Axes>"
      ]
     },
     "metadata": {
      "needs_background": "light"
     },
     "output_type": "display_data"
    }
   ],
   "source": [
    "fig, ax = plt.subplots(figsize=(12, 8))\n",
    "ax.barh(noise_data.Noise_Word[30:], noise_data.Noise_Weight[30:], height=0.55, color=\"skyblue\")\n",
    "plt.xlabel(\"Term Frequency\", fontsize=15)\n",
    "plt.xticks(fontsize=12)\n",
    "plt.yticks(fontsize=12)\n",
    "plt.title(\"Noise Term Frequency\", fontsize=20)\n",
    "plt.savefig(\"Noise.png\", dpi=300)"
   ]
  },
  {
   "cell_type": "code",
   "execution_count": null,
   "id": "6c500e85-ea41-4133-af66-19893146f509",
   "metadata": {},
   "outputs": [],
   "source": []
  }
 ],
 "metadata": {
  "kernelspec": {
   "display_name": "Python 3",
   "language": "python",
   "name": "python3"
  },
  "language_info": {
   "codemirror_mode": {
    "name": "ipython",
    "version": 3
   },
   "file_extension": ".py",
   "mimetype": "text/x-python",
   "name": "python",
   "nbconvert_exporter": "python",
   "pygments_lexer": "ipython3",
   "version": "3.8.2"
  }
 },
 "nbformat": 4,
 "nbformat_minor": 5
}
